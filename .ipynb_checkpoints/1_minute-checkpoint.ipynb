{
 "cells": [
  {
   "cell_type": "code",
   "execution_count": 4,
   "id": "94d137e4-25c1-442e-b308-8e9d543311aa",
   "metadata": {},
   "outputs": [],
   "source": [
    "import random\n",
    "import numpy as np\n",
    "import torch\n",
    "from torch import nn\n",
    "import torch.optim as optim\n",
    "\n",
    "# multivariate data preparation\n",
    "from numpy import array\n",
    "from numpy import hstack\n",
    "import matplotlib.pyplot as plt\n",
    "\n",
    "import joblib "
   ]
  },
  {
   "cell_type": "code",
   "execution_count": 5,
   "id": "cb7d3820-bc3e-41c8-979b-c2edc75d416f",
   "metadata": {},
   "outputs": [],
   "source": [
    "#data = np.loadtxt('./data/tower_prep_data-Copy1.csv', delimiter=',', dtype=np.float32, skiprows=1)\n",
    "data = np.loadtxt('./data/tower_prep_data.csv', delimiter=',', dtype=np.float32, skiprows=1)"
   ]
  },
  {
   "cell_type": "code",
   "execution_count": 6,
   "id": "a58ca127-7447-4e3e-8aaf-e2e34ddb9c50",
   "metadata": {},
   "outputs": [],
   "source": [
    "scaler_vibrations = joblib.load('./scalers/motor.gz')\n",
    "scaler_temperature = joblib.load('./scalers/temperature.gz')\n",
    "scaler_temperature_pir = joblib.load('./scalers/temperature_pir.gz')\n",
    "scaler_start_stop = joblib.load('./scalers/start_stop.gz')"
   ]
  },
  {
   "cell_type": "code",
   "execution_count": 7,
   "id": "e42f9f94-2b4d-4459-8e46-675fefd87276",
   "metadata": {},
   "outputs": [],
   "source": [
    "size = 60\n",
    "shift = 60\n",
    "\n",
    "test_data_x =  np.log( data[-size + shift: shift, 3] + 1e-15)\n",
    "test_data_y  =  data[-size + shift: shift, 1]"
   ]
  },
  {
   "cell_type": "code",
   "execution_count": 8,
   "id": "eee73cf7-85bb-47e6-97a3-94fb2bd5d7af",
   "metadata": {},
   "outputs": [
    {
     "name": "stdout",
     "output_type": "stream",
     "text": [
      "97\n",
      "60\n",
      "60\n"
     ]
    }
   ],
   "source": [
    "print(len(data))\n",
    "print(len(test_data_x))\n",
    "print(len(test_data_y))"
   ]
  },
  {
   "cell_type": "code",
   "execution_count": 9,
   "id": "86d4ea34-aaef-4714-adde-4cfaee098f4b",
   "metadata": {},
   "outputs": [
    {
     "data": {
      "text/plain": [
       "array([0.25  , 0.254 , 0.258 , 0.262 , 0.266 , 0.27  , 0.264 , 0.258 ,\n",
       "       0.252 , 0.246 , 0.24  , 0.272 , 0.304 , 0.336 , 0.368 , 0.4   ,\n",
       "       0.372 , 0.344 , 0.316 , 0.288 , 0.26  , 0.262 , 0.264 , 0.266 ,\n",
       "       0.268 , 0.27  , 0.272 , 0.274 , 0.276 , 0.278 , 0.28  , 0.27  ,\n",
       "       0.26  , 0.25  , 0.24  , 0.23  , 0.22  , 0.2425, 0.265 , 0.2875,\n",
       "       0.31  , 0.304 , 0.298 , 0.292 , 0.286 , 0.28  , 0.28  , 0.28  ,\n",
       "       0.28  , 0.28  , 0.28  , 0.292 , 0.304 , 0.316 , 0.328 , 0.34  ,\n",
       "       0.33  , 0.32  , 0.31  , 0.3   , 0.29  , 0.292 , 0.294 , 0.296 ,\n",
       "       0.298 , 0.3   , 0.296 , 0.292 , 0.288 , 0.284 , 0.28  , 0.276 ,\n",
       "       0.272 , 0.268 , 0.264 , 0.26  , 0.262 , 0.264 , 0.266 , 0.268 ,\n",
       "       0.27  , 0.272 , 0.274 , 0.276 , 0.278 , 0.28  , 0.278 , 0.276 ,\n",
       "       0.274 , 0.272 , 0.27  , 0.265 , 0.26  , 0.255 , 0.25  , 0.245 ,\n",
       "       0.24  ], dtype=float32)"
      ]
     },
     "execution_count": 9,
     "metadata": {},
     "output_type": "execute_result"
    }
   ],
   "source": [
    "data[:, 3]"
   ]
  },
  {
   "cell_type": "code",
   "execution_count": 10,
   "id": "40039a37-1234-48c0-9694-98a64b249c00",
   "metadata": {},
   "outputs": [],
   "source": [
    "class NeuralNetwork(nn.Module):\n",
    "    \n",
    "    def __init__(self):\n",
    "        \n",
    "        super(NeuralNetwork, self).__init__()\n",
    "        \n",
    "        self.linear_relu_stack = nn.Sequential(\n",
    "        \n",
    "            nn.Linear(60, 40),\n",
    "            nn.ReLU(),\n",
    "            nn.Linear(40, 20),\n",
    "            nn.ReLU(),\n",
    "            nn.Linear(20, 6)\n",
    "        )\n",
    "        \n",
    "    \n",
    "    def forward(self, x):\n",
    "        \n",
    "        output = self.linear_relu_stack(x)\n",
    "        return output"
   ]
  },
  {
   "cell_type": "code",
   "execution_count": 11,
   "id": "1e51e944-a649-40d9-9fee-48c477fd8af0",
   "metadata": {},
   "outputs": [],
   "source": [
    "class MV_LSTM(torch.nn.Module):\n",
    "    def __init__(self,n_features,seq_length):\n",
    "        super(MV_LSTM, self).__init__()\n",
    "        self.n_features = n_features\n",
    "        self.seq_len = seq_length\n",
    "        self.n_hidden = 30 # number of hidden states\n",
    "        self.n_layers = 3 # number of LSTM layers (stacked)\n",
    "    \n",
    "        self.l_lstm = torch.nn.LSTM(input_size = n_features, \n",
    "                                 hidden_size = self.n_hidden,\n",
    "                                 num_layers = self.n_layers, \n",
    "                                 batch_first = True)\n",
    "        # according to pytorch docs LSTM output is \n",
    "        # (batch_size,seq_len, num_directions * hidden_size)\n",
    "        # when considering batch_first = True\n",
    "        self.l_linear = torch.nn.Linear(self.n_hidden*self.seq_len, 1)\n",
    "        \n",
    "    \n",
    "    def init_hidden(self, batch_size):\n",
    "        # even with batch_first = True this remains same as docs\n",
    "        hidden_state = torch.zeros(self.n_layers,batch_size,self.n_hidden)\n",
    "        cell_state = torch.zeros(self.n_layers,batch_size,self.n_hidden)\n",
    "        self.hidden = (hidden_state, cell_state)\n",
    "    \n",
    "    \n",
    "    def forward(self, x):        \n",
    "        batch_size, seq_len, _ = x.size()\n",
    "        \n",
    "        lstm_out, self.hidden = self.l_lstm(x,self.hidden)\n",
    "        # lstm_out(with batch_first = True) is \n",
    "        # (batch_size,seq_len,num_directions * hidden_size)\n",
    "        # for following linear layer we want to keep batch_size dimension and merge rest       \n",
    "        # .contiguous() -> solves tensor compatibility error\n",
    "        x = lstm_out.contiguous().view(batch_size,-1)\n",
    "        return self.l_linear(x)"
   ]
  },
  {
   "cell_type": "code",
   "execution_count": 12,
   "id": "b5b4bb43-ab6b-45cd-8b6b-bdc2c310e20b",
   "metadata": {},
   "outputs": [],
   "source": [
    "start_stop_model = torch.load(\"./models/start_stop.pt\")\n",
    "motor_model = torch.load(\"./models/motor.pt\")"
   ]
  },
  {
   "cell_type": "code",
   "execution_count": 150,
   "id": "5a04207f-6764-4c9a-9690-97e54c2dea32",
   "metadata": {},
   "outputs": [
    {
     "name": "stdout",
     "output_type": "stream",
     "text": [
      "tensor([5])\n"
     ]
    }
   ],
   "source": [
    "motor_model.eval()\n",
    "\n",
    "with torch.no_grad():\n",
    "    \n",
    "    outputs = torch.tensor(scaler_vibrations.transform(test_data_x.reshape(-1,1)).reshape(-1, 60))\n",
    "    #label = int(test_data_y[size])\n",
    "        \n",
    "\n",
    "    outputs = motor_model(outputs)\n",
    "    _, predicted = torch.max(outputs, 1)\n",
    "        \n",
    "    print(predicted)"
   ]
  },
  {
   "cell_type": "code",
   "execution_count": 151,
   "id": "a358dc44-853b-48f1-b780-925e72cb00eb",
   "metadata": {},
   "outputs": [
    {
     "data": {
      "text/plain": [
       "0.0"
      ]
     },
     "execution_count": 151,
     "metadata": {},
     "output_type": "execute_result"
    }
   ],
   "source": [
    "test_data_y[size-1]"
   ]
  },
  {
   "cell_type": "code",
   "execution_count": 152,
   "id": "ea72d107-13b2-4249-8081-8519dd22dca5",
   "metadata": {},
   "outputs": [],
   "source": [
    "#vibrations =  data[-size + shift:shift, 3]\n",
    "temperature =  data[-size + shift: shift, 4]\n",
    "temperature_pir =  data[-size + shift: shift, 5]\n",
    "start_stop =  data[-size + shift: shift, 6]"
   ]
  },
  {
   "cell_type": "code",
   "execution_count": 153,
   "id": "a5c0a691-70b7-4851-8375-479612f1b87e",
   "metadata": {},
   "outputs": [],
   "source": [
    "#vibrations = scaler_vibrations.transform(vibrations.reshape(-1, 1))\n",
    "temperature = scaler_temperature.transform(temperature.reshape(-1, 1))\n",
    "temperature_pir = scaler_temperature_pir.transform(temperature_pir.reshape(-1, 1))"
   ]
  },
  {
   "cell_type": "code",
   "execution_count": 154,
   "id": "2d72d5b6-9a53-4c67-9db8-5705fc1f000b",
   "metadata": {},
   "outputs": [],
   "source": [
    "dataset_test = []\n",
    "\n",
    "for x in range(len(temperature)):\n",
    "    dataset_test.append([ temperature[x][0], temperature_pir[x][0] ])"
   ]
  },
  {
   "cell_type": "code",
   "execution_count": 155,
   "id": "d92b9929-d776-4bef-bb38-7ec9c5640ee7",
   "metadata": {},
   "outputs": [],
   "source": [
    "start_stop_model.eval()\n",
    "\n",
    "\n",
    "seq = torch.FloatTensor([ dataset_test ])\n",
    "#print(seq)\n",
    "\n",
    "with torch.no_grad():\n",
    "\n",
    "    start_stop_model.init_hidden(seq.size(0))\n",
    "    temp = scaler_start_stop.inverse_transform(np.array(start_stop_model(seq).item()).reshape(-1, 1))"
   ]
  },
  {
   "cell_type": "code",
   "execution_count": 156,
   "id": "1dba8a23-630d-46ba-b039-8848c754b75e",
   "metadata": {},
   "outputs": [
    {
     "data": {
      "text/plain": [
       "array([[72.96453421]])"
      ]
     },
     "execution_count": 156,
     "metadata": {},
     "output_type": "execute_result"
    }
   ],
   "source": [
    "temp"
   ]
  },
  {
   "cell_type": "code",
   "execution_count": 105,
   "id": "eeeccb1d-c64a-4b1c-bbc7-7af53ecc54a8",
   "metadata": {},
   "outputs": [
    {
     "data": {
      "text/plain": [
       "244.0"
      ]
     },
     "execution_count": 105,
     "metadata": {},
     "output_type": "execute_result"
    }
   ],
   "source": [
    "start_stop[-1]"
   ]
  },
  {
   "cell_type": "code",
   "execution_count": 3,
   "id": "e3cd7624-ff15-4f82-91fe-f79ab72e0d3b",
   "metadata": {},
   "outputs": [
    {
     "ename": "OSError",
     "evalue": "./tower_prep_data_json.csv not found.",
     "output_type": "error",
     "traceback": [
      "\u001b[0;31m---------------------------------------------------------------------------\u001b[0m",
      "\u001b[0;31mOSError\u001b[0m                                   Traceback (most recent call last)",
      "\u001b[0;32m<ipython-input-3-7d2bcee65dfa>\u001b[0m in \u001b[0;36m<module>\u001b[0;34m\u001b[0m\n\u001b[1;32m     28\u001b[0m \u001b[0;34m\u001b[0m\u001b[0m\n\u001b[1;32m     29\u001b[0m \u001b[0;34m\u001b[0m\u001b[0m\n\u001b[0;32m---> 30\u001b[0;31m \u001b[0mdata\u001b[0m \u001b[0;34m=\u001b[0m \u001b[0mnp\u001b[0m\u001b[0;34m.\u001b[0m\u001b[0mloadtxt\u001b[0m\u001b[0;34m(\u001b[0m\u001b[0;34mf'{dirname}/tower_prep_data_json.csv'\u001b[0m\u001b[0;34m,\u001b[0m \u001b[0mdelimiter\u001b[0m\u001b[0;34m=\u001b[0m\u001b[0;34m','\u001b[0m\u001b[0;34m,\u001b[0m \u001b[0mdtype\u001b[0m\u001b[0;34m=\u001b[0m\u001b[0mnp\u001b[0m\u001b[0;34m.\u001b[0m\u001b[0mfloat32\u001b[0m\u001b[0;34m,\u001b[0m \u001b[0mskiprows\u001b[0m\u001b[0;34m=\u001b[0m\u001b[0;36m1\u001b[0m\u001b[0;34m)\u001b[0m\u001b[0;34m\u001b[0m\u001b[0;34m\u001b[0m\u001b[0m\n\u001b[0m\u001b[1;32m     31\u001b[0m \u001b[0;34m\u001b[0m\u001b[0m\n\u001b[1;32m     32\u001b[0m \u001b[0;31m# In[77]:\u001b[0m\u001b[0;34m\u001b[0m\u001b[0;34m\u001b[0m\u001b[0;34m\u001b[0m\u001b[0m\n",
      "\u001b[0;32m~/.local/lib/python3.9/site-packages/numpy/lib/npyio.py\u001b[0m in \u001b[0;36mloadtxt\u001b[0;34m(fname, dtype, comments, delimiter, converters, skiprows, usecols, unpack, ndmin, encoding, max_rows, like)\u001b[0m\n\u001b[1;32m   1065\u001b[0m             \u001b[0mfname\u001b[0m \u001b[0;34m=\u001b[0m \u001b[0mos_fspath\u001b[0m\u001b[0;34m(\u001b[0m\u001b[0mfname\u001b[0m\u001b[0;34m)\u001b[0m\u001b[0;34m\u001b[0m\u001b[0;34m\u001b[0m\u001b[0m\n\u001b[1;32m   1066\u001b[0m         \u001b[0;32mif\u001b[0m \u001b[0m_is_string_like\u001b[0m\u001b[0;34m(\u001b[0m\u001b[0mfname\u001b[0m\u001b[0;34m)\u001b[0m\u001b[0;34m:\u001b[0m\u001b[0;34m\u001b[0m\u001b[0;34m\u001b[0m\u001b[0m\n\u001b[0;32m-> 1067\u001b[0;31m             \u001b[0mfh\u001b[0m \u001b[0;34m=\u001b[0m \u001b[0mnp\u001b[0m\u001b[0;34m.\u001b[0m\u001b[0mlib\u001b[0m\u001b[0;34m.\u001b[0m\u001b[0m_datasource\u001b[0m\u001b[0;34m.\u001b[0m\u001b[0mopen\u001b[0m\u001b[0;34m(\u001b[0m\u001b[0mfname\u001b[0m\u001b[0;34m,\u001b[0m \u001b[0;34m'rt'\u001b[0m\u001b[0;34m,\u001b[0m \u001b[0mencoding\u001b[0m\u001b[0;34m=\u001b[0m\u001b[0mencoding\u001b[0m\u001b[0;34m)\u001b[0m\u001b[0;34m\u001b[0m\u001b[0;34m\u001b[0m\u001b[0m\n\u001b[0m\u001b[1;32m   1068\u001b[0m             \u001b[0mfencoding\u001b[0m \u001b[0;34m=\u001b[0m \u001b[0mgetattr\u001b[0m\u001b[0;34m(\u001b[0m\u001b[0mfh\u001b[0m\u001b[0;34m,\u001b[0m \u001b[0;34m'encoding'\u001b[0m\u001b[0;34m,\u001b[0m \u001b[0;34m'latin1'\u001b[0m\u001b[0;34m)\u001b[0m\u001b[0;34m\u001b[0m\u001b[0;34m\u001b[0m\u001b[0m\n\u001b[1;32m   1069\u001b[0m             \u001b[0mfh\u001b[0m \u001b[0;34m=\u001b[0m \u001b[0miter\u001b[0m\u001b[0;34m(\u001b[0m\u001b[0mfh\u001b[0m\u001b[0;34m)\u001b[0m\u001b[0;34m\u001b[0m\u001b[0;34m\u001b[0m\u001b[0m\n",
      "\u001b[0;32m~/.local/lib/python3.9/site-packages/numpy/lib/_datasource.py\u001b[0m in \u001b[0;36mopen\u001b[0;34m(path, mode, destpath, encoding, newline)\u001b[0m\n\u001b[1;32m    191\u001b[0m \u001b[0;34m\u001b[0m\u001b[0m\n\u001b[1;32m    192\u001b[0m     \u001b[0mds\u001b[0m \u001b[0;34m=\u001b[0m \u001b[0mDataSource\u001b[0m\u001b[0;34m(\u001b[0m\u001b[0mdestpath\u001b[0m\u001b[0;34m)\u001b[0m\u001b[0;34m\u001b[0m\u001b[0;34m\u001b[0m\u001b[0m\n\u001b[0;32m--> 193\u001b[0;31m     \u001b[0;32mreturn\u001b[0m \u001b[0mds\u001b[0m\u001b[0;34m.\u001b[0m\u001b[0mopen\u001b[0m\u001b[0;34m(\u001b[0m\u001b[0mpath\u001b[0m\u001b[0;34m,\u001b[0m \u001b[0mmode\u001b[0m\u001b[0;34m,\u001b[0m \u001b[0mencoding\u001b[0m\u001b[0;34m=\u001b[0m\u001b[0mencoding\u001b[0m\u001b[0;34m,\u001b[0m \u001b[0mnewline\u001b[0m\u001b[0;34m=\u001b[0m\u001b[0mnewline\u001b[0m\u001b[0;34m)\u001b[0m\u001b[0;34m\u001b[0m\u001b[0;34m\u001b[0m\u001b[0m\n\u001b[0m\u001b[1;32m    194\u001b[0m \u001b[0;34m\u001b[0m\u001b[0m\n\u001b[1;32m    195\u001b[0m \u001b[0;34m\u001b[0m\u001b[0m\n",
      "\u001b[0;32m~/.local/lib/python3.9/site-packages/numpy/lib/_datasource.py\u001b[0m in \u001b[0;36mopen\u001b[0;34m(self, path, mode, encoding, newline)\u001b[0m\n\u001b[1;32m    531\u001b[0m                                       encoding=encoding, newline=newline)\n\u001b[1;32m    532\u001b[0m         \u001b[0;32melse\u001b[0m\u001b[0;34m:\u001b[0m\u001b[0;34m\u001b[0m\u001b[0;34m\u001b[0m\u001b[0m\n\u001b[0;32m--> 533\u001b[0;31m             \u001b[0;32mraise\u001b[0m \u001b[0mIOError\u001b[0m\u001b[0;34m(\u001b[0m\u001b[0;34m\"%s not found.\"\u001b[0m \u001b[0;34m%\u001b[0m \u001b[0mpath\u001b[0m\u001b[0;34m)\u001b[0m\u001b[0;34m\u001b[0m\u001b[0;34m\u001b[0m\u001b[0m\n\u001b[0m\u001b[1;32m    534\u001b[0m \u001b[0;34m\u001b[0m\u001b[0m\n\u001b[1;32m    535\u001b[0m \u001b[0;34m\u001b[0m\u001b[0m\n",
      "\u001b[0;31mOSError\u001b[0m: ./tower_prep_data_json.csv not found."
     ]
    }
   ],
   "source": [
    "#!/usr/bin/env python\n",
    "# coding: utf-8\n",
    "\n",
    "# In[75]:\n",
    "\n",
    "\n",
    "import random\n",
    "import numpy as np\n",
    "import torch\n",
    "from torch import nn\n",
    "import torch.optim as optim\n",
    "\n",
    "# multivariate data preparation\n",
    "from numpy import array\n",
    "from numpy import hstack\n",
    "import matplotlib.pyplot as plt\n",
    "\n",
    "import joblib \n",
    "\n",
    "import requests\n",
    "import os\n",
    "from timeit import default_timer as timer\n",
    "start = timer()\n",
    "\n",
    "import pickle\n",
    "\n",
    "dirname = \".\" #os.path.dirname(os.path.abspath(__file__))\n",
    "\n",
    "\n",
    "data = np.loadtxt(f'{dirname}/tower_prep_data_json.csv', delimiter=',', dtype=np.float32, skiprows=1)\n",
    "\n",
    "# In[77]:\n",
    "print()\n",
    "scaler_vibrations = joblib.load(f'{dirname}/../scalers/motor2.gz')\n",
    "scaler_temperature = joblib.load(f'{dirname}/../scalers/temperature.gz')\n",
    "scaler_temperature_pir = joblib.load(f'{dirname}/../scalers/temperature_pir.gz')\n",
    "scaler_start_stop = joblib.load(f'{dirname}/../scalers/start_stop.gz')\n",
    "\n",
    "\n",
    "# In[91]:\n",
    "size = 60\n",
    "\n",
    "test_data_x =  np.log( data[-size :, 3] + 1e-15)\n",
    "test_data_y  =  data[-size :, 1]\n",
    "\n",
    "\n",
    "# In[92]:\n",
    "class NeuralNetwork(nn.Module):\n",
    "    \n",
    "    def __init__(self):\n",
    "        \n",
    "        super(NeuralNetwork, self).__init__()\n",
    "        \n",
    "        self.linear_relu_stack = nn.Sequential(\n",
    "        \n",
    "            nn.Linear(60, 40),\n",
    "            nn.ReLU(),\n",
    "            nn.Linear(40, 20),\n",
    "            nn.ReLU(),\n",
    "            nn.Linear(20, 6)\n",
    "        )\n",
    "        \n",
    "    \n",
    "    def forward(self, x):\n",
    "        \n",
    "        output = self.linear_relu_stack(x)\n",
    "        return output\n",
    "\n",
    "\n",
    "# In[93]:\n",
    "class MV_LSTM(torch.nn.Module):\n",
    "    def __init__(self,n_features,seq_length):\n",
    "        super(MV_LSTM, self).__init__()\n",
    "        self.n_features = n_features\n",
    "        self.seq_len = seq_length\n",
    "        self.n_hidden = 20#30 # number of hidden states\n",
    "        self.n_layers = 4#3 # number of LSTM layers (stacked)\n",
    "    \n",
    "        self.l_lstm = torch.nn.LSTM(input_size = n_features, \n",
    "                                 hidden_size = self.n_hidden,\n",
    "                                 num_layers = self.n_layers, \n",
    "                                 batch_first = True)\n",
    "        # according to pytorch docs LSTM output is \n",
    "        # (batch_size,seq_len, num_directions * hidden_size)\n",
    "        # when considering batch_first = True\n",
    "        self.l_linear = torch.nn.Linear(self.n_hidden*self.seq_len, 1)\n",
    "        \n",
    "    \n",
    "    def init_hidden(self, batch_size):\n",
    "        # even with batch_first = True this remains same as docs\n",
    "        hidden_state = torch.zeros(self.n_layers,batch_size,self.n_hidden)\n",
    "        cell_state = torch.zeros(self.n_layers,batch_size,self.n_hidden)\n",
    "        self.hidden = (hidden_state, cell_state)\n",
    "    \n",
    "    \n",
    "    def forward(self, x):        \n",
    "        batch_size, seq_len, _ = x.size()\n",
    "        \n",
    "        lstm_out, self.hidden = self.l_lstm(x,self.hidden)\n",
    "        # lstm_out(with batch_first = True) is \n",
    "        # (batch_size,seq_len,num_directions * hidden_size)\n",
    "        # for following linear layer we want to keep batch_size dimension and merge rest       \n",
    "        # .contiguous() -> solves tensor compatibility error\n",
    "        x = lstm_out.contiguous().view(batch_size,-1)\n",
    "        return self.l_linear(x)\n",
    "\n",
    "\n",
    "# In[94]:\n",
    "start_stop_model = torch.load(f\"{dirname}/../models/start_stop2.pt\")\n",
    "motor_model = torch.load(f\"{dirname}/../models/motor2.pt\")\n",
    "\n",
    "\n",
    "# In[95]:\n",
    "motor_model.eval()\n",
    "\n",
    "with torch.no_grad():\n",
    "    \n",
    "    outputs = torch.tensor(scaler_vibrations.transform(test_data_x.reshape(-1,1)).reshape(-1, 60))\n",
    "    #label = int(test_data_y[size])\n",
    "        \n",
    "\n",
    "    outputs = motor_model(outputs)\n",
    "    _, predicted = torch.max(outputs, 1)\n",
    "        \n",
    "    print(f\"predicted motor status: {predicted[0].item()}\")\n",
    "    print(f\"real motor status: {test_data_y[size-1]}\")\n",
    "    \n",
    "\n",
    "\n",
    "\n",
    "\n",
    "# In[98]:\n",
    "#vibrations =  data[-size:, 3]\n",
    "temperature =  data[-size:, 4]\n",
    "temperature_pir =  data[-size:, 5]\n",
    "start_stop =  data[-size:, 6]"
   ]
  },
  {
   "cell_type": "code",
   "execution_count": null,
   "id": "d477ff41-9f1e-4007-9221-d67ce34c292f",
   "metadata": {},
   "outputs": [],
   "source": []
  }
 ],
 "metadata": {
  "kernelspec": {
   "display_name": "Python 3",
   "language": "python",
   "name": "python3"
  },
  "language_info": {
   "codemirror_mode": {
    "name": "ipython",
    "version": 3
   },
   "file_extension": ".py",
   "mimetype": "text/x-python",
   "name": "python",
   "nbconvert_exporter": "python",
   "pygments_lexer": "ipython3",
   "version": "3.9.5"
  }
 },
 "nbformat": 4,
 "nbformat_minor": 5
}
