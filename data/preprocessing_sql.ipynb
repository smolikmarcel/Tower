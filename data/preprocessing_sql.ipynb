{
 "cells": [
  {
   "cell_type": "code",
   "execution_count": 57,
   "id": "9dc91db9-6440-4095-848c-1f5368004026",
   "metadata": {},
   "outputs": [],
   "source": [
    "import mysql.connector\n",
    "import numpy as np\n",
    "\n",
    "import sklearn\n",
    "import torch\n",
    "import torch.nn as nn\n",
    "\n",
    "import requests\n",
    "import json\n",
    "\n",
    "import os"
   ]
  },
  {
   "cell_type": "code",
   "execution_count": 59,
   "id": "f9999db3-2685-49d8-a89c-0538f9dafb3c",
   "metadata": {},
   "outputs": [
    {
     "data": {
      "text/plain": [
       "'/home/smolik/Python3/PyTorch/tower/final_version/data'"
      ]
     },
     "execution_count": 59,
     "metadata": {},
     "output_type": "execute_result"
    }
   ],
   "source": [
    "os.getcwd()"
   ]
  },
  {
   "cell_type": "code",
   "execution_count": 18,
   "id": "bd8ed2f9-a4b2-4704-b83a-35bda242256f",
   "metadata": {},
   "outputs": [],
   "source": [
    "# Declare function to return the sorted data based on name\n",
    "def sort_by_key(list):\n",
    "    return list['timestamp']"
   ]
  },
  {
   "cell_type": "code",
   "execution_count": 32,
   "id": "e104e7df-fe75-404b-8568-904d10647301",
   "metadata": {},
   "outputs": [
    {
     "name": "stdout",
     "output_type": "stream",
     "text": [
      "42\n",
      "115\n"
     ]
    }
   ],
   "source": [
    "response = requests.get(\"http://hugo.sarahub.io/api/v1/hugo/get_120_s_data\")\n",
    "data = response.json()\n",
    "\n",
    "data2 = data.copy()\n",
    "sorted(data, key=sort_by_key)\n",
    "\n",
    "print(len(data))\n",
    "\n",
    "print( int(data[-1]['timestamp']) - int(data2[0]['timestamp']) )"
   ]
  },
  {
   "cell_type": "code",
   "execution_count": 33,
   "id": "dd5af313-460a-401a-ac8d-cfd52519ba37",
   "metadata": {
    "collapsed": true,
    "jupyter": {
     "outputs_hidden": true
    },
    "tags": []
   },
   "outputs": [
    {
     "name": "stdout",
     "output_type": "stream",
     "text": [
      "1642671192 - 1642671192 = 0\n",
      "1642671192 - 1642671192 = 0\n",
      "1642671197 - 1642671197 = 0\n",
      "1642671197 - 1642671197 = 0\n",
      "1642671202 - 1642671202 = 0\n",
      "1642671202 - 1642671202 = 0\n",
      "1642671207 - 1642671207 = 0\n",
      "1642671207 - 1642671207 = 0\n",
      "1642671212 - 1642671212 = 0\n",
      "1642671217 - 1642671217 = 0\n",
      "1642671217 - 1642671217 = 0\n",
      "1642671222 - 1642671222 = 0\n",
      "1642671222 - 1642671222 = 0\n",
      "1642671227 - 1642671227 = 0\n",
      "1642671227 - 1642671227 = 0\n",
      "1642671233 - 1642671233 = 0\n",
      "1642671233 - 1642671233 = 0\n",
      "1642671237 - 1642671237 = 0\n",
      "1642671237 - 1642671237 = 0\n",
      "1642671242 - 1642671242 = 0\n",
      "1642671243 - 1642671243 = 0\n",
      "1642671247 - 1642671247 = 0\n",
      "1642671247 - 1642671247 = 0\n",
      "1642671252 - 1642671252 = 0\n",
      "1642671252 - 1642671252 = 0\n",
      "1642671257 - 1642671257 = 0\n",
      "1642671257 - 1642671257 = 0\n",
      "1642671262 - 1642671262 = 0\n",
      "1642671262 - 1642671262 = 0\n",
      "1642671267 - 1642671267 = 0\n",
      "1642671267 - 1642671267 = 0\n",
      "1642671272 - 1642671272 = 0\n",
      "1642671277 - 1642671277 = 0\n",
      "1642671282 - 1642671282 = 0\n",
      "1642671282 - 1642671282 = 0\n",
      "1642671287 - 1642671287 = 0\n",
      "1642671293 - 1642671293 = 0\n",
      "1642671293 - 1642671293 = 0\n",
      "1642671297 - 1642671297 = 0\n",
      "1642671302 - 1642671302 = 0\n",
      "1642671302 - 1642671302 = 0\n",
      "1642671307 - 1642671307 = 0\n"
     ]
    }
   ],
   "source": [
    "for i in range(len(data)):\n",
    "    \n",
    "    print(f\"{data[i]['timestamp']} - {data2[i]['timestamp']} = {int(data[i]['timestamp']) - int(data2[i]['timestamp'])}\")"
   ]
  },
  {
   "cell_type": "code",
   "execution_count": 52,
   "id": "a52130be-2c54-4d70-8fe6-174ba8c0c95f",
   "metadata": {},
   "outputs": [],
   "source": [
    "def jprint(obj):\n",
    "    # create a formatted string of the Python JSON object\n",
    "    text = json.dumps(obj, sort_keys=True, indent=4)\n",
    "    print(text)"
   ]
  },
  {
   "cell_type": "code",
   "execution_count": 54,
   "id": "4a6177e4-b5a4-46c7-93d7-5e6e51ab37d9",
   "metadata": {
    "collapsed": true,
    "jupyter": {
     "outputs_hidden": true
    },
    "tags": []
   },
   "outputs": [
    {
     "name": "stdout",
     "output_type": "stream",
     "text": [
      "[\n",
      "    {\n",
      "        \"device_code\": \"2\",\n",
      "        \"metric\": \"battery\",\n",
      "        \"timestamp\": \"1642675653\",\n",
      "        \"value\": \"2.73\"\n",
      "    },\n",
      "    {\n",
      "        \"device_code\": \"2\",\n",
      "        \"metric\": \"movements_count\",\n",
      "        \"timestamp\": \"1642678878\",\n",
      "        \"value\": \"328\"\n",
      "    },\n",
      "    {\n",
      "        \"device_code\": \"3\",\n",
      "        \"metric\": \"vibration\",\n",
      "        \"timestamp\": \"1642678888\",\n",
      "        \"value\": \"0.27\"\n",
      "    },\n",
      "    {\n",
      "        \"device_code\": \"3\",\n",
      "        \"metric\": \"cycle_count\",\n",
      "        \"timestamp\": \"1642678213\",\n",
      "        \"value\": \"51\"\n",
      "    },\n",
      "    {\n",
      "        \"device_code\": \"3\",\n",
      "        \"metric\": null,\n",
      "        \"timestamp\": \"1642678873\",\n",
      "        \"value\": \"B\\u011b\\u017en\\u00fd provoz\"\n",
      "    },\n",
      "    {\n",
      "        \"device_code\": \"2\",\n",
      "        \"metric\": \"orientation\",\n",
      "        \"timestamp\": \"1642672352\",\n",
      "        \"value\": \"3\"\n",
      "    },\n",
      "    {\n",
      "        \"device_code\": \"1\",\n",
      "        \"metric\": null,\n",
      "        \"timestamp\": \"1642678223\",\n",
      "        \"value\": \"Vypnuto\"\n",
      "    },\n",
      "    {\n",
      "        \"device_code\": \"2\",\n",
      "        \"metric\": \"moves_last_minute\",\n",
      "        \"timestamp\": \"1642678858\",\n",
      "        \"value\": \"15\"\n",
      "    },\n",
      "    {\n",
      "        \"device_code\": \"3\",\n",
      "        \"metric\": \"temperature\",\n",
      "        \"timestamp\": \"1642678873\",\n",
      "        \"value\": \"28.44\"\n",
      "    },\n",
      "    {\n",
      "        \"device_code\": \"1\",\n",
      "        \"metric\": \"issue_status\",\n",
      "        \"timestamp\": \"1642666141\",\n",
      "        \"value\": \"0\"\n",
      "    },\n",
      "    {\n",
      "        \"device_code\": \"2\",\n",
      "        \"metric\": \"temperature\",\n",
      "        \"timestamp\": \"1642678483\",\n",
      "        \"value\": \"23.06\"\n",
      "    },\n",
      "    {\n",
      "        \"device_code\": \"1\",\n",
      "        \"metric\": \"andon_status\",\n",
      "        \"timestamp\": \"1642666141\",\n",
      "        \"value\": \"2\"\n",
      "    },\n",
      "    {\n",
      "        \"device_code\": \"1\",\n",
      "        \"metric\": \"motor_status\",\n",
      "        \"timestamp\": \"1642678223\",\n",
      "        \"value\": \"0\"\n",
      "    },\n",
      "    {\n",
      "        \"device_code\": \"1\",\n",
      "        \"metric\": \"fan_status\",\n",
      "        \"timestamp\": \"1642672343\",\n",
      "        \"value\": \"1\"\n",
      "    }\n",
      "]\n"
     ]
    }
   ],
   "source": [
    "default = requests.get(\"http://hugo.sarahub.io/api/v1/hugo/get_last_value\").json()\n",
    "jprint(default)"
   ]
  },
  {
   "cell_type": "code",
   "execution_count": null,
   "id": "572e5a3b-39a1-4187-9b02-dbc4150a490b",
   "metadata": {},
   "outputs": [],
   "source": [
    "for i in range(len())"
   ]
  },
  {
   "cell_type": "code",
   "execution_count": 36,
   "id": "5b048b6b-a3e9-4b56-95f5-dc2ad4abb699",
   "metadata": {},
   "outputs": [
    {
     "data": {
      "text/plain": [
       "{'device_code': '3',\n",
       " 'value': '0.30',\n",
       " 'timestamp': '1642671192',\n",
       " 'channel_name': 'vibration'}"
      ]
     },
     "execution_count": 36,
     "metadata": {},
     "output_type": "execute_result"
    }
   ],
   "source": [
    "data[1]"
   ]
  },
  {
   "cell_type": "code",
   "execution_count": 43,
   "id": "127da2c0-838f-40a8-9d62-c7ff7799b9df",
   "metadata": {
    "tags": []
   },
   "outputs": [],
   "source": [
    "data_categories = []\n",
    "#new_data.insert(0, [\"time_stamp\", \"motor\", \"fan\", \"vibrations\", \"temperature\", \"temperature_pir\"])\n",
    "c = 1\n",
    "\n",
    "motor = \"NaN\"\n",
    "fan = \"NaN\"\n",
    "vibrations = \"NaN\"\n",
    "temperature = \"NaN\"\n",
    "temperature_pir = \"NaN\"\n",
    "\n",
    "for y in range(len(data) - 2):\n",
    "    \n",
    "    x = y + 1\n",
    "    \n",
    "    if  (data[x]['channel_name'] == 'motor_status'): motor = float(data[x]['value'])\n",
    "    elif(data[x]['channel_name'] == 'fan_status'): fan = float(data[x]['value'])\n",
    "    elif(data[x]['channel_name'] == 'vibration'): vibrations = float(data[x]['value'])\n",
    "    elif(data[x]['channel_name'] == 'temperature' and data[x]['device_code'] == '3'): temperature = float(data[x]['value'])\n",
    "    elif(data[x]['channel_name'] == 'temperature' and data[x]['device_code'] == '2'): temperature_pir = float(data[x]['value'])\n",
    "    \n",
    "    if(data[x]['timestamp'] != data[x + 1]['timestamp']): \n",
    "        \n",
    "        data_categories.insert(c, [int(data[x]['timestamp']), motor, fan, vibrations, temperature, temperature_pir])\n",
    "        \n",
    "        motor = \"NaN\"\n",
    "        fan = \"NaN\"\n",
    "        vibrations = \"NaN\"\n",
    "        temperature = \"NaN\"\n",
    "        temperature_pir = \"NaN\"\n",
    "        c += 1\n",
    "\n",
    "#np.savetxt(\"tower_prep.csv\", new_data, delimiter =\", \", fmt ='% s')"
   ]
  },
  {
   "cell_type": "code",
   "execution_count": 48,
   "id": "8474de5f-4afb-4297-bf20-5b5f010ffae4",
   "metadata": {
    "tags": []
   },
   "outputs": [
    {
     "data": {
      "text/plain": [
       "24"
      ]
     },
     "execution_count": 48,
     "metadata": {},
     "output_type": "execute_result"
    }
   ],
   "source": [
    "len(data_categories)"
   ]
  },
  {
   "cell_type": "code",
   "execution_count": 45,
   "id": "ceab565c-df48-468f-881c-ef23392f302f",
   "metadata": {},
   "outputs": [],
   "source": [
    "count = 0\n",
    "new_data = []\n",
    "offset = 0\n",
    "#new_data.insert(0, (\"time_stamp\", \"motor\", \"fan\", \"vibrations\", \"temperature\", \"temperature_pir\"))\n",
    "\n",
    "for y in range(len(data_categories) - 2):\n",
    "    x = y + 1\n",
    "    diff = data_categories[x + 1][0] - data_categories[x][0] - offset\n",
    "    \n",
    "    if(diff > 100):\n",
    "        \n",
    "        offset += diff - 1\n",
    "        diff = 1\n",
    "    \n",
    "    new_data.append([data_categories[x][0], data_categories[x][1], data_categories[x][2], data_categories[x][3], data_categories[x][4], data_categories[x][5]])\n",
    "    \n",
    "    for k in range(int(diff) - 1):\n",
    "        new_data.append([data_categories[x][0] + k + 1, \"NaN\", \"NaN\", \"NaN\", \"NaN\", \"NaN\"])\n",
    "        "
   ]
  },
  {
   "cell_type": "code",
   "execution_count": null,
   "id": "06541171-0280-43c5-8a03-d38f00c14d73",
   "metadata": {},
   "outputs": [],
   "source": [
    "+----+-----------------+\n",
    "| id | name            |\n",
    "+----+-----------------+\n",
    "|  1 | motor           |  'motor_status'\n",
    "|  2 | fan             |  'fan_status'\n",
    "|  3 | vibrations      |  'vibration'\n",
    "|  4 | temperature     |  3 'temperature'\n",
    "|  5 | cycle_count     |  'cycle_count'\n",
    "|  6 | rpm             |\n",
    "|  7 | andon           |\n",
    "|  8 | temperature_pir |  2 'temperatur'\n",
    "+----+-----------------+\n"
   ]
  },
  {
   "cell_type": "code",
   "execution_count": 60,
   "id": "c0d45527-ad5f-4223-a29a-e0c91c95a4be",
   "metadata": {
    "tags": []
   },
   "outputs": [
    {
     "name": "stdout",
     "output_type": "stream",
     "text": [
      "105\n",
      "105\n"
     ]
    }
   ],
   "source": [
    "\n",
    "\n",
    "motor = \"0\"\n",
    "fan = \"0\"\n",
    "temp = 35.0\n",
    "temp_pir = -100.0\n",
    "\n",
    "for i in default:\n",
    "    \n",
    "    if i['metric'] != 'undefined':\n",
    "        \n",
    "        if i['metric'] == 'motor_status':\n",
    "            motor = i['value'] \n",
    "\n",
    "        if i['metric'] == 'fan_status':\n",
    "            fan = i['value'] \n",
    "\n",
    "        if i['metric'] == 'temperature' and  i['device_code'] == '3':\n",
    "            temp = i['value'] \n",
    "\n",
    "        if i['metric'] == 'temperature' and  i['device_code'] == '2':\n",
    "            temp_pir = i['value'] \n",
    "\n",
    "\n",
    "\n",
    "for x in range(len(new_data)):\n",
    "    if(new_data[x][1] == \"NaN\"): new_data[x][1] = motor\n",
    "    else: motor = new_data[x][1]\n",
    "\n",
    "for x in range(len(new_data)):\n",
    "    if(new_data[x][2] != \"NaN\"): fan = new_data[x][2]\n",
    "    new_data[x][2] = str(fan)\n",
    "\n",
    "    \n",
    "    \n",
    "    \n",
    "    \n",
    "\"\"\"\n",
    "    \n",
    "sum = 0\n",
    "count = 0\n",
    "\n",
    "for x in range(len(new_data)):\n",
    "    if(new_data[x][3] != \"NaN\"): \n",
    "        count += 1\n",
    "        #print(new_data[x][3])\n",
    "        sum += float(new_data[x][3])\n",
    "\n",
    "avg = sum/count\n",
    "\n",
    "\n",
    "for x in range(len(new_data)): \n",
    "    if(new_data[x][3] == \"NaN\"): new_data[x][3] = float(avg)\n",
    "\n",
    "        \n",
    "\"\"\"\n",
    "  \n",
    "last_x = 0      \n",
    "for x in range(len(new_data)):\n",
    "    \n",
    "    if(new_data[x][3] == \"NaN\"): last_x += 1\n",
    "        \n",
    "    else:\n",
    "        if(last_x != 0):\n",
    "            \n",
    "            avg = (new_data[x][3] - new_data[x - last_x - 1][3]) / (last_x + 1)\n",
    "            for k in range(last_x): new_data[x - last_x + k][3] = new_data[x - last_x - 1][3] + (k + 1)*avg\n",
    "            last_x = 0\n",
    "            \n",
    "        \n",
    " \n",
    "    \n",
    "        \n",
    "        \n",
    "        \n",
    "        \n",
    "cc = 0\n",
    "\n",
    "for x in range(len(new_data)):\n",
    "    \n",
    "    #x = y + 1\n",
    "    #print(data[x][4])\n",
    "    if(new_data[x][4] == \"NaN\"):\n",
    "        \n",
    "        cc += 1\n",
    "    \n",
    "    else:\n",
    "        \n",
    "        if(cc > 0):\n",
    "            diff = (float(new_data[x][4]) - float(temp))/(cc + 1)\n",
    "            #print(data[x][4])\n",
    "            #print(cc)\n",
    "                  \n",
    "            for k in range(cc):\n",
    "                new_data[x  - cc + k][4] = str(temp + (k + 1) * diff)\n",
    "                #data[x  - 1][4]  = \"99\"\n",
    "        cc = 0\n",
    "        temp = float(new_data[x][4])\n",
    "\n",
    "\n",
    "\n",
    "\n",
    "for x in range(len(new_data)):\n",
    "    \n",
    "    if(new_data[x][5] == \"NaN\"): new_data[x][5] = str(temp_pir)\n",
    "    else: temp_pir = float(new_data[x][5])\n",
    "\n",
    "        \n",
    "        \n",
    "        \n",
    "len(new_data)   \n",
    "for y in range(len(new_data)):\n",
    "    \n",
    "    x = len(new_data) - 1 - y\n",
    "    \n",
    "    if(float(new_data[x][5]) < -99): new_data[x][5] = str(temp_pir)\n",
    "    else: temp_pir = float(new_data[x][5])\n",
    "        \n",
    "        \n",
    "        \n",
    "        \n",
    "        \n",
    "        \n",
    "time_predict = []\n",
    "fan_stat = 0\n",
    "time = 0    \n",
    "for y in range(len(new_data)):\n",
    "    \n",
    "    x = len(new_data) - 1 - y\n",
    "    \n",
    "    if(float(new_data[x][5]) < -99): new_data[x][5] = str(temp_pir)\n",
    "    else: temp_pir = float(new_data[x][5])\n",
    "\n",
    "for x in range(len(new_data)):\n",
    "    \n",
    "    if(fan_stat == float(new_data[x][2])): time_predict.append(-100)\n",
    "    else:\n",
    "        fan_stat = float(new_data[x][2])\n",
    "        time_predict.append(new_data[x][0])\n",
    "\n",
    "\n",
    "        \n",
    "    \n",
    "    \n",
    "    \n",
    "    \n",
    "time_predict[-1] = new_data[-1][0]\n",
    "\n",
    "for y in range(len(time_predict)):\n",
    "    \n",
    "    x = len(time_predict) - 1 - y\n",
    "    \n",
    "    if(time_predict[x] != -100): time = time_predict[x]\n",
    "    time_predict[x] = time - new_data[x][0]\n",
    "\n",
    "\n",
    "\n",
    "\n",
    "data_merge = []\n",
    "data_merge.append((\"time_stamp\", \"motor\", \"fan\", \"vibrations\", \"temperature\", \"temperature_pir\", \"predicted_time\"))\n",
    "\n",
    "print(len(new_data))\n",
    "print(len(time_predict))\n",
    "\n",
    "for x in range(len(new_data)): \n",
    "    \n",
    "    if(new_data[x][0] != \"NaN\" and new_data[x][1] != \"NaN\" and new_data[x][2] != \"NaN\" and new_data[x][3] != \"NaN\" and new_data[x][4] != \"NaN\" and new_data[x][5] != \"NaN\"):\n",
    "        data_merge.append((new_data[x][0], new_data[x][1], new_data[x][2], new_data[x][3], new_data[x][4], new_data[x][5], time_predict[x]))\n",
    "    \n",
    "    #if(new_data[x][4] != \"NaN\"):\n",
    "    #   data_merge.append((new_data[x][0], new_data[x][1], new_data[x][2], new_data[x][3], new_data[x][4], new_data[x][5], time_predict[x]))\n",
    "    \n",
    "    \n",
    "    \n",
    "np.savetxt(f\"{os.getcwd()}/tower_prep_data.csv\", data_merge, delimiter =\", \", fmt ='% s')"
   ]
  },
  {
   "cell_type": "code",
   "execution_count": 50,
   "id": "34aa7ecd-403f-4a00-9cf6-6f573a9b9514",
   "metadata": {},
   "outputs": [
    {
     "data": {
      "text/plain": [
       "98"
      ]
     },
     "execution_count": 50,
     "metadata": {},
     "output_type": "execute_result"
    }
   ],
   "source": [
    "len(data_merge)"
   ]
  },
  {
   "cell_type": "code",
   "execution_count": null,
   "id": "077ad4e7-acb2-4f3f-9185-b25082908218",
   "metadata": {},
   "outputs": [],
   "source": []
  },
  {
   "cell_type": "code",
   "execution_count": 11,
   "id": "56eed0a4-ed97-420d-b482-24806703d8b7",
   "metadata": {},
   "outputs": [
    {
     "name": "stdout",
     "output_type": "stream",
     "text": [
      "0\n",
      "1\n",
      "2\n",
      "3\n",
      "4\n"
     ]
    }
   ],
   "source": [
    "for k in range(5): print(k)"
   ]
  },
  {
   "cell_type": "code",
   "execution_count": null,
   "id": "2714e971-362e-4ac6-b427-ab3859ea036c",
   "metadata": {},
   "outputs": [],
   "source": []
  }
 ],
 "metadata": {
  "kernelspec": {
   "display_name": "Python 3",
   "language": "python",
   "name": "python3"
  },
  "language_info": {
   "codemirror_mode": {
    "name": "ipython",
    "version": 3
   },
   "file_extension": ".py",
   "mimetype": "text/x-python",
   "name": "python",
   "nbconvert_exporter": "python",
   "pygments_lexer": "ipython3",
   "version": "3.9.5"
  }
 },
 "nbformat": 4,
 "nbformat_minor": 5
}
