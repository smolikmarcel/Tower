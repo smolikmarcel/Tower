{
 "cells": [
  {
   "cell_type": "code",
   "execution_count": null,
   "id": "3964c5ae-1b0c-46ab-b7cd-bfbb64fe31f5",
   "metadata": {},
   "outputs": [],
   "source": [
    "import mysql.connector\n",
    "import numpy as np\n",
    "\n",
    "import sklearn\n",
    "import torch\n",
    "import torch.nn as nn\n",
    "\n",
    "\n",
    "from numpy import genfromtxt\n",
    "data = genfromtxt('tower_prep_data.csv', delimiter=',')"
   ]
  },
  {
   "cell_type": "code",
   "execution_count": null,
   "id": "e9102c2d-9290-475d-a90b-9ae28cd68121",
   "metadata": {},
   "outputs": [],
   "source": [
    "for y in data:\n",
    "    \n",
    "    y[3] += 1\n",
    "    \n",
    "    "
   ]
  }
 ],
 "metadata": {
  "kernelspec": {
   "display_name": "Python 3",
   "language": "python",
   "name": "python3"
  },
  "language_info": {
   "codemirror_mode": {
    "name": "ipython",
    "version": 3
   },
   "file_extension": ".py",
   "mimetype": "text/x-python",
   "name": "python",
   "nbconvert_exporter": "python",
   "pygments_lexer": "ipython3",
   "version": "3.9.5"
  }
 },
 "nbformat": 4,
 "nbformat_minor": 5
}
