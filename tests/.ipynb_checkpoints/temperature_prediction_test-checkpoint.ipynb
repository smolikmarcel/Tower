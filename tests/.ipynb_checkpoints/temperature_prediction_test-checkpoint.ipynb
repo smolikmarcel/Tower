{
 "cells": [
  {
   "cell_type": "code",
   "execution_count": null,
   "id": "ae4c283c-831b-49a7-9837-3f34a0247478",
   "metadata": {},
   "outputs": [],
   "source": []
  }
 ],
 "metadata": {
  "kernelspec": {
   "display_name": "Python 3",
   "language": "python",
   "name": "python3"
  },
  "language_info": {
   "name": ""
  }
 },
 "nbformat": 4,
 "nbformat_minor": 5
}
