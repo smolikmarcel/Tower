{
 "cells": [
  {
   "cell_type": "code",
   "execution_count": 1,
   "id": "ae4c283c-831b-49a7-9837-3f34a0247478",
   "metadata": {},
   "outputs": [],
   "source": [
    "import random\n",
    "import numpy as np\n",
    "import torch\n",
    "from torch import nn\n",
    "import torch.optim as optim\n",
    "\n",
    "# multivariate data preparation\n",
    "from numpy import array\n",
    "from numpy import hstack\n",
    "import matplotlib.pyplot as plt\n",
    "\n",
    "import joblib \n",
    "\n",
    "import requests\n",
    "import os\n",
    "from timeit import default_timer as timer\n",
    "start = timer()\n",
    "\n",
    "import pickle"
   ]
  },
  {
   "cell_type": "code",
   "execution_count": 2,
   "id": "0708dabc-8d91-4dd7-9c15-8d0b6ce3b4b6",
   "metadata": {
    "jupyter": {
     "source_hidden": true
    },
    "tags": []
   },
   "outputs": [],
   "source": [
    "class NeuralNetwork(nn.Module):\n",
    "    \n",
    "    def __init__(self):\n",
    "        \n",
    "        super(NeuralNetwork, self).__init__()\n",
    "        \n",
    "        self.linear_relu_stack = nn.Sequential(\n",
    "        \n",
    "            nn.Linear(60, 40),\n",
    "            nn.ReLU(),\n",
    "            nn.Linear(40, 20),\n",
    "            nn.ReLU(),\n",
    "            nn.Linear(20, 6)\n",
    "        )\n",
    "        \n",
    "    \n",
    "    def forward(self, x):\n",
    "        \n",
    "        output = self.linear_relu_stack(x)\n",
    "        return output"
   ]
  },
  {
   "cell_type": "code",
   "execution_count": 3,
   "id": "0168bfef-8e70-4142-96a5-9c800bc7c269",
   "metadata": {
    "jupyter": {
     "source_hidden": true
    },
    "tags": []
   },
   "outputs": [],
   "source": [
    "class MV_LSTM(torch.nn.Module):\n",
    "    def __init__(self,n_features,seq_length):\n",
    "        super(MV_LSTM, self).__init__()\n",
    "        self.n_features = n_features\n",
    "        self.seq_len = seq_length\n",
    "        self.n_hidden = 30 # number of hidden states\n",
    "        self.n_layers = 3 # number of LSTM layers (stacked)\n",
    "    \n",
    "        self.l_lstm = torch.nn.LSTM(input_size = n_features, \n",
    "                                 hidden_size = self.n_hidden,\n",
    "                                 num_layers = self.n_layers, \n",
    "                                 batch_first = True)\n",
    "        # according to pytorch docs LSTM output is \n",
    "        # (batch_size,seq_len, num_directions * hidden_size)\n",
    "        # when considering batch_first = True\n",
    "        self.l_linear = torch.nn.Linear(self.n_hidden*self.seq_len, 1)\n",
    "        \n",
    "    \n",
    "    def init_hidden(self, batch_size):\n",
    "        # even with batch_first = True this remains same as docs\n",
    "        hidden_state = torch.zeros(self.n_layers,batch_size,self.n_hidden)\n",
    "        cell_state = torch.zeros(self.n_layers,batch_size,self.n_hidden)\n",
    "        self.hidden = (hidden_state, cell_state)\n",
    "    \n",
    "    \n",
    "    def forward(self, x):        \n",
    "        batch_size, seq_len, _ = x.size()\n",
    "        \n",
    "        lstm_out, self.hidden = self.l_lstm(x,self.hidden)\n",
    "        # lstm_out(with batch_first = True) is \n",
    "        # (batch_size,seq_len,num_directions * hidden_size)\n",
    "        # for following linear layer we want to keep batch_size dimension and merge rest       \n",
    "        # .contiguous() -> solves tensor compatibility error\n",
    "        x = lstm_out.contiguous().view(batch_size,-1)\n",
    "        return self.l_linear(x)"
   ]
  },
  {
   "cell_type": "code",
   "execution_count": 4,
   "id": "f38fdc64-3c36-43ec-802a-9bb329b4b4b7",
   "metadata": {},
   "outputs": [],
   "source": [
    "dirname = \"../scripts\"\n",
    "\n",
    "#loss_var = [vibration_scaler, loss, n, step]\n",
    "try:\n",
    "    with open(f'{dirname}/store.pckl', 'rb') as f:\n",
    "        loss_var = pickle.load(f)\n",
    "\n",
    "except FileNotFoundError:\n",
    "    \n",
    "    loss_var = [1.0, 0.0, 0, 0.1]\n",
    "    f = open(f'{dirname}/store.pckl', 'wb')\n",
    "    pickle.dump(loss_var, f)\n",
    "    f.close()"
   ]
  },
  {
   "cell_type": "code",
   "execution_count": 5,
   "id": "4afdc49c-9de9-46d0-91a9-76495d91901e",
   "metadata": {},
   "outputs": [],
   "source": [
    "data1 = np.loadtxt(f'{dirname}/../data/tower_prep_data-Copy1.csv', delimiter=',', dtype=np.float32, skiprows=1)"
   ]
  },
  {
   "cell_type": "code",
   "execution_count": 6,
   "id": "8059bacc-629f-405d-a7e8-4aaafc0e2f46",
   "metadata": {},
   "outputs": [],
   "source": [
    "data2 = np.loadtxt(f'{dirname}/../data/tower_prep_data2.csv', delimiter=',', dtype=np.float32, skiprows=1)"
   ]
  },
  {
   "cell_type": "code",
   "execution_count": 18,
   "id": "448bb1a7-97a9-4f8b-bdda-9bb53ea53499",
   "metadata": {},
   "outputs": [
    {
     "data": {
      "text/plain": [
       "119077"
      ]
     },
     "execution_count": 18,
     "metadata": {},
     "output_type": "execute_result"
    }
   ],
   "source": [
    "data2.size"
   ]
  },
  {
   "cell_type": "code",
   "execution_count": 7,
   "id": "7487a8bd-ee77-4e81-aeba-fd6074e34758",
   "metadata": {},
   "outputs": [],
   "source": [
    "size = 60 * 160\n",
    "\n",
    "test_data1_x =  np.log( data1[-size :, 3] + 1e-15)\n",
    "test_data1_y  =  data1[-size :, 1]"
   ]
  },
  {
   "cell_type": "code",
   "execution_count": 8,
   "id": "0870a391-fed4-4788-9700-33b522419ccc",
   "metadata": {},
   "outputs": [],
   "source": [
    "\n",
    "test_data2_x =  np.log( data2[-size :, 3] + 1e-15)\n",
    "test_data2_y  =  data2[-size :, 1]"
   ]
  },
  {
   "cell_type": "code",
   "execution_count": 9,
   "id": "8b0c96c8-0c1e-4255-81cb-9e2fc201fda1",
   "metadata": {},
   "outputs": [],
   "source": [
    "scaler_vibrations1 = joblib.load(f'{dirname}/../scalers/motor.gz')\n",
    "scaler_temperature1 = joblib.load(f'{dirname}/../scalers/temperature.gz')\n",
    "scaler_temperature_pir1 = joblib.load(f'{dirname}/../scalers/temperature_pir.gz')\n",
    "scaler_start_stop1 = joblib.load(f'{dirname}/../scalers/start_stop.gz')"
   ]
  },
  {
   "cell_type": "code",
   "execution_count": 10,
   "id": "b610d18d-c7bd-4c70-98fb-c36a1dd55ab7",
   "metadata": {},
   "outputs": [],
   "source": [
    "scaler_vibrations2 = joblib.load(f'{dirname}/../scalers/motor.gz')\n",
    "scaler_temperature2 = joblib.load(f'{dirname}/../scalers/temperature.gz')\n",
    "scaler_temperature_pir2 = joblib.load(f'{dirname}/../scalers/temperature_pir.gz')\n",
    "scaler_start_stop2 = joblib.load(f'{dirname}/../scalers/start_stop.gz')"
   ]
  },
  {
   "cell_type": "code",
   "execution_count": 11,
   "id": "c4dee7e1-a9f3-4319-8ba9-a952686c5fa6",
   "metadata": {},
   "outputs": [],
   "source": [
    "start_stop_model1 = torch.load(f\"{dirname}/../models/start_stop.pt\")\n",
    "motor_model1 = torch.load(f\"{dirname}/../models/motor.pt\")"
   ]
  },
  {
   "cell_type": "code",
   "execution_count": 12,
   "id": "7df04eed-9a02-43a5-aacf-8e065be0cea5",
   "metadata": {},
   "outputs": [],
   "source": [
    "start_stop_model2 = torch.load(f\"{dirname}/../models/start_stop.pt\")\n",
    "motor_model2 = torch.load(f\"{dirname}/../models/motor.pt\")"
   ]
  },
  {
   "cell_type": "code",
   "execution_count": 14,
   "id": "cd58c286-2de9-4492-a8fb-c049eda1a93c",
   "metadata": {},
   "outputs": [
    {
     "data": {
      "text/plain": [
       "NeuralNetwork(\n",
       "  (linear_relu_stack): Sequential(\n",
       "    (0): Linear(in_features=60, out_features=40, bias=True)\n",
       "    (1): ReLU()\n",
       "    (2): Linear(in_features=40, out_features=20, bias=True)\n",
       "    (3): ReLU()\n",
       "    (4): Linear(in_features=20, out_features=6, bias=True)\n",
       "  )\n",
       ")"
      ]
     },
     "execution_count": 14,
     "metadata": {},
     "output_type": "execute_result"
    }
   ],
   "source": [
    "start_stop_model1.eval()\n",
    "motor_model1.eval()"
   ]
  },
  {
   "cell_type": "code",
   "execution_count": 15,
   "id": "bc056aba-e4fa-4039-8bd2-9cc303b79b0b",
   "metadata": {},
   "outputs": [
    {
     "data": {
      "text/plain": [
       "NeuralNetwork(\n",
       "  (linear_relu_stack): Sequential(\n",
       "    (0): Linear(in_features=60, out_features=40, bias=True)\n",
       "    (1): ReLU()\n",
       "    (2): Linear(in_features=40, out_features=20, bias=True)\n",
       "    (3): ReLU()\n",
       "    (4): Linear(in_features=20, out_features=6, bias=True)\n",
       "  )\n",
       ")"
      ]
     },
     "execution_count": 15,
     "metadata": {},
     "output_type": "execute_result"
    }
   ],
   "source": [
    "start_stop_model2.eval()\n",
    "motor_model2.eval()"
   ]
  },
  {
   "cell_type": "code",
   "execution_count": 16,
   "id": "45a604f7-26fe-4041-a441-e716aacb058a",
   "metadata": {},
   "outputs": [
    {
     "name": "stdout",
     "output_type": "stream",
     "text": [
      "percentige: 0.9124737945492662\n",
      "pred_lab\n",
      "0: 0.00 0.00 0.00 0.00 0.00 0.00 \n",
      "1: 0.00 0.99 0.44 0.00 0.00 0.00 \n",
      "2: 0.00 0.01 0.54 0.00 0.01 0.00 \n",
      "3: 0.00 0.00 0.01 0.96 0.01 0.00 \n",
      "4: 0.00 0.00 0.01 0.04 0.98 0.61 \n",
      "5: 0.00 0.00 0.00 0.00 0.00 0.39 \n",
      "\n",
      "label_pred\n",
      "0: 0.00 0.00 0.00 0.00 0.00 0.00 \n",
      "1: 0.00 0.86 0.03 0.00 0.00 0.00 \n",
      "2: 0.00 0.14 0.94 0.01 0.00 0.00 \n",
      "3: 0.00 0.00 0.00 0.96 0.01 0.00 \n",
      "4: 0.00 0.00 0.03 0.03 0.93 0.04 \n",
      "5: 0.00 0.00 0.00 0.00 0.05 0.96 \n"
     ]
    }
   ],
   "source": [
    "pred_plot1 = []\n",
    "\n",
    "with torch.no_grad():\n",
    "    \n",
    "    prob1 = [[0, 0, 0, 0, 0, 0]\n",
    "           ,[0, 0, 0, 0, 0, 0]\n",
    "           ,[0, 0, 0, 0, 0, 0]\n",
    "           ,[0, 0, 0, 0, 0, 0]\n",
    "           ,[0, 0, 0, 0, 0, 0]\n",
    "           ,[0, 0, 0, 0, 0, 0]]\n",
    "    \n",
    "    pred1 = [ 0.000001,  0.000001,  0.000001,  0.000001,  0.000001,  0.000001 ]\n",
    "    lab1 = [ 0.000001,  0.000001,  0.000001,  0.000001,  0.000001,  0.000001 ]\n",
    "    \n",
    "    n_samples = 0\n",
    "    n_correct = 0\n",
    "    predicted = 0\n",
    "    \n",
    "    for i in range(int(size - 60)):\n",
    "        \n",
    "        outputs = torch.tensor(scaler_vibrations1.transform(test_data1_x[i:i+60].reshape(-1,1)).reshape(-1, 60))\n",
    "        label = int(test_data1_y[i+60])\n",
    "        \n",
    "        \n",
    "        outputs = motor_model1(outputs)\n",
    "        _, predicted = torch.max(outputs, 1)\n",
    "        \n",
    "        pred_plot1.append(predicted)\n",
    "        \n",
    "        if predicted == label:\n",
    "            n_correct += 1\n",
    "        \n",
    "        prob1[predicted][label] += 1\n",
    "        pred1[predicted] += 1\n",
    "        lab1[label] += 1\n",
    "        n_samples += 1\n",
    "        \n",
    "        \n",
    "    pred_label = np.divide( np.array(prob1).T,  pred1)\n",
    "    label_pred = np.divide( np.array(prob1),  lab1)\n",
    "    \n",
    "    print(f'percentige: {n_correct/n_samples}')\n",
    "    \n",
    "    print(\"pred_lab\")\n",
    "    for i in range(len(label_pred)):\n",
    "        \n",
    "        print(f\"{i}: \", end='')\n",
    "        for x in label_pred[i]:\n",
    "            print(f\"{x:.2f} \", end='')\n",
    "        print()\n",
    "    \n",
    "    print()\n",
    "    print(\"label_pred\")\n",
    "    for i in range(len(pred_label)):\n",
    "        \n",
    "        print(f\"{i}: \", end='')\n",
    "        for x in pred_label[i]:\n",
    "            print(f\"{x:.2f} \", end='')\n",
    "        print()\n",
    "    "
   ]
  },
  {
   "cell_type": "code",
   "execution_count": 17,
   "id": "e2423173-613a-4906-8014-69242a37a357",
   "metadata": {},
   "outputs": [
    {
     "name": "stdout",
     "output_type": "stream",
     "text": [
      "percentige: 0.26666666666666666\n",
      "pred_lab\n",
      "0: 0.00 0.00 0.00 0.00 0.00 0.00 \n",
      "1: 0.93 0.03 0.07 0.05 0.00 0.00 \n",
      "2: 0.05 0.94 0.73 0.07 0.05 0.01 \n",
      "3: 0.00 0.02 0.19 0.87 0.92 0.09 \n",
      "4: 0.00 0.01 0.01 0.01 0.03 0.90 \n",
      "5: 0.02 0.00 0.00 0.00 0.00 0.00 \n",
      "\n",
      "label_pred\n",
      "0: 0.00 0.38 0.00 0.00 0.00 0.50 \n",
      "1: 0.00 0.14 0.55 0.01 0.01 0.00 \n",
      "2: 0.00 0.26 0.37 0.08 0.01 0.50 \n",
      "3: 0.00 0.19 0.03 0.36 0.01 0.00 \n",
      "4: 0.00 0.02 0.03 0.48 0.02 0.00 \n",
      "5: 0.00 0.01 0.01 0.06 0.96 0.00 \n"
     ]
    }
   ],
   "source": [
    "pred_plot2 = []\n",
    "\n",
    "with torch.no_grad():\n",
    "    \n",
    "    prob2 = [[0, 0, 0, 0, 0, 0]\n",
    "           ,[0, 0, 0, 0, 0, 0]\n",
    "           ,[0, 0, 0, 0, 0, 0]\n",
    "           ,[0, 0, 0, 0, 0, 0]\n",
    "           ,[0, 0, 0, 0, 0, 0]\n",
    "           ,[0, 0, 0, 0, 0, 0]]\n",
    "    \n",
    "    pred2 = [ 0.000001,  0.000001,  0.000001,  0.000001,  0.000001,  0.000001 ]\n",
    "    lab2 = [ 0.000001,  0.000001,  0.000001,  0.000001,  0.000001,  0.000001 ]\n",
    "    \n",
    "    n_samples = 0\n",
    "    n_correct = 0\n",
    "    predicted = 0\n",
    "    \n",
    "    for i in range(int(size - 60)):\n",
    "        \n",
    "        outputs = torch.tensor(scaler_vibrations2.transform(test_data2_x[i:i+60].reshape(-1,1)).reshape(-1, 60))\n",
    "        label = int(test_data2_y[i+60])\n",
    "        \n",
    "        \n",
    "        outputs = motor_model2(outputs)\n",
    "        _, predicted = torch.max(outputs, 1)\n",
    "        \n",
    "        pred_plot1.append(predicted)\n",
    "        \n",
    "        if predicted == label:\n",
    "            n_correct += 1\n",
    "        \n",
    "        prob2[predicted][label] += 1\n",
    "        pred2[predicted] += 1\n",
    "        lab2[label] += 1\n",
    "        n_samples += 1\n",
    "        \n",
    "        \n",
    "    pred_label = np.divide( np.array(prob2).T,  pred2)\n",
    "    label_pred = np.divide( np.array(prob2),  lab2)\n",
    "    \n",
    "    print(f'percentige: {n_correct/n_samples}')\n",
    "    \n",
    "    print(\"pred_lab\")\n",
    "    for i in range(len(label_pred)):\n",
    "        \n",
    "        print(f\"{i}: \", end='')\n",
    "        for x in label_pred[i]:\n",
    "            print(f\"{x:.2f} \", end='')\n",
    "        print()\n",
    "    \n",
    "    print()\n",
    "    print(\"label_pred\")\n",
    "    for i in range(len(pred_label)):\n",
    "        \n",
    "        print(f\"{i}: \", end='')\n",
    "        for x in pred_label[i]:\n",
    "            print(f\"{x:.2f} \", end='')\n",
    "        print()\n",
    "    "
   ]
  },
  {
   "cell_type": "code",
   "execution_count": 49,
   "id": "36491306-0431-4ee9-bf2f-8f927186f12c",
   "metadata": {},
   "outputs": [
    {
     "data": {
      "text/plain": [
       "107"
      ]
     },
     "execution_count": 49,
     "metadata": {},
     "output_type": "execute_result"
    }
   ],
   "source": []
  },
  {
   "cell_type": "code",
   "execution_count": null,
   "id": "f7da45cf-bb1f-4a2e-b6e0-88395bd78694",
   "metadata": {},
   "outputs": [],
   "source": []
  }
 ],
 "metadata": {
  "kernelspec": {
   "display_name": "Python 3",
   "language": "python",
   "name": "python3"
  },
  "language_info": {
   "codemirror_mode": {
    "name": "ipython",
    "version": 3
   },
   "file_extension": ".py",
   "mimetype": "text/x-python",
   "name": "python",
   "nbconvert_exporter": "python",
   "pygments_lexer": "ipython3",
   "version": "3.9.5"
  }
 },
 "nbformat": 4,
 "nbformat_minor": 5
}
