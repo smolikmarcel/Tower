{
 "cells": [
  {
   "cell_type": "code",
   "execution_count": 1,
   "id": "748194be-f0f2-4f6a-ba02-d031713108cc",
   "metadata": {},
   "outputs": [],
   "source": [
    "import random\n",
    "import numpy as np\n",
    "import torch\n",
    "from torch import nn\n",
    "import torch.optim as optim\n",
    "\n",
    "# multivariate data preparation\n",
    "from numpy import array\n",
    "from numpy import hstack\n",
    "import matplotlib.pyplot as plt\n",
    "\n",
    "import joblib \n",
    "\n",
    "import requests\n",
    "import os\n",
    "from timeit import default_timer as timer\n",
    "start = timer()"
   ]
  },
  {
   "cell_type": "code",
   "execution_count": 2,
   "id": "a2253101-ddcc-4c70-905e-5c88d90319bb",
   "metadata": {},
   "outputs": [],
   "source": [
    "fut_pred = 900\n",
    "n_timesteps = 60"
   ]
  },
  {
   "cell_type": "code",
   "execution_count": 13,
   "id": "3b6e90f3-2b02-449e-8791-ef079d5f9ef5",
   "metadata": {},
   "outputs": [
    {
     "ename": "OSError",
     "evalue": "./tower_prep_data_json.csv not found.",
     "output_type": "error",
     "traceback": [
      "\u001b[0;31m---------------------------------------------------------------------------\u001b[0m",
      "\u001b[0;31mOSError\u001b[0m                                   Traceback (most recent call last)",
      "\u001b[0;32m<ipython-input-13-cb9c91b50903>\u001b[0m in \u001b[0;36m<module>\u001b[0;34m\u001b[0m\n\u001b[1;32m      1\u001b[0m \u001b[0mdirname\u001b[0m \u001b[0;34m=\u001b[0m \u001b[0;34m\".\"\u001b[0m\u001b[0;34m\u001b[0m\u001b[0;34m\u001b[0m\u001b[0m\n\u001b[0;32m----> 2\u001b[0;31m \u001b[0mdata\u001b[0m \u001b[0;34m=\u001b[0m \u001b[0mnp\u001b[0m\u001b[0;34m.\u001b[0m\u001b[0mloadtxt\u001b[0m\u001b[0;34m(\u001b[0m\u001b[0;34mf'{dirname}/tower_prep_data_json.csv'\u001b[0m\u001b[0;34m,\u001b[0m \u001b[0mdelimiter\u001b[0m\u001b[0;34m=\u001b[0m\u001b[0;34m','\u001b[0m\u001b[0;34m,\u001b[0m \u001b[0mdtype\u001b[0m\u001b[0;34m=\u001b[0m\u001b[0mnp\u001b[0m\u001b[0;34m.\u001b[0m\u001b[0mfloat32\u001b[0m\u001b[0;34m,\u001b[0m \u001b[0mskiprows\u001b[0m\u001b[0;34m=\u001b[0m\u001b[0;36m1\u001b[0m\u001b[0;34m)\u001b[0m\u001b[0;34m\u001b[0m\u001b[0;34m\u001b[0m\u001b[0m\n\u001b[0m",
      "\u001b[0;32m~/.local/lib/python3.9/site-packages/numpy/lib/npyio.py\u001b[0m in \u001b[0;36mloadtxt\u001b[0;34m(fname, dtype, comments, delimiter, converters, skiprows, usecols, unpack, ndmin, encoding, max_rows, like)\u001b[0m\n\u001b[1;32m   1065\u001b[0m             \u001b[0mfname\u001b[0m \u001b[0;34m=\u001b[0m \u001b[0mos_fspath\u001b[0m\u001b[0;34m(\u001b[0m\u001b[0mfname\u001b[0m\u001b[0;34m)\u001b[0m\u001b[0;34m\u001b[0m\u001b[0;34m\u001b[0m\u001b[0m\n\u001b[1;32m   1066\u001b[0m         \u001b[0;32mif\u001b[0m \u001b[0m_is_string_like\u001b[0m\u001b[0;34m(\u001b[0m\u001b[0mfname\u001b[0m\u001b[0;34m)\u001b[0m\u001b[0;34m:\u001b[0m\u001b[0;34m\u001b[0m\u001b[0;34m\u001b[0m\u001b[0m\n\u001b[0;32m-> 1067\u001b[0;31m             \u001b[0mfh\u001b[0m \u001b[0;34m=\u001b[0m \u001b[0mnp\u001b[0m\u001b[0;34m.\u001b[0m\u001b[0mlib\u001b[0m\u001b[0;34m.\u001b[0m\u001b[0m_datasource\u001b[0m\u001b[0;34m.\u001b[0m\u001b[0mopen\u001b[0m\u001b[0;34m(\u001b[0m\u001b[0mfname\u001b[0m\u001b[0;34m,\u001b[0m \u001b[0;34m'rt'\u001b[0m\u001b[0;34m,\u001b[0m \u001b[0mencoding\u001b[0m\u001b[0;34m=\u001b[0m\u001b[0mencoding\u001b[0m\u001b[0;34m)\u001b[0m\u001b[0;34m\u001b[0m\u001b[0;34m\u001b[0m\u001b[0m\n\u001b[0m\u001b[1;32m   1068\u001b[0m             \u001b[0mfencoding\u001b[0m \u001b[0;34m=\u001b[0m \u001b[0mgetattr\u001b[0m\u001b[0;34m(\u001b[0m\u001b[0mfh\u001b[0m\u001b[0;34m,\u001b[0m \u001b[0;34m'encoding'\u001b[0m\u001b[0;34m,\u001b[0m \u001b[0;34m'latin1'\u001b[0m\u001b[0;34m)\u001b[0m\u001b[0;34m\u001b[0m\u001b[0;34m\u001b[0m\u001b[0m\n\u001b[1;32m   1069\u001b[0m             \u001b[0mfh\u001b[0m \u001b[0;34m=\u001b[0m \u001b[0miter\u001b[0m\u001b[0;34m(\u001b[0m\u001b[0mfh\u001b[0m\u001b[0;34m)\u001b[0m\u001b[0;34m\u001b[0m\u001b[0;34m\u001b[0m\u001b[0m\n",
      "\u001b[0;32m~/.local/lib/python3.9/site-packages/numpy/lib/_datasource.py\u001b[0m in \u001b[0;36mopen\u001b[0;34m(path, mode, destpath, encoding, newline)\u001b[0m\n\u001b[1;32m    191\u001b[0m \u001b[0;34m\u001b[0m\u001b[0m\n\u001b[1;32m    192\u001b[0m     \u001b[0mds\u001b[0m \u001b[0;34m=\u001b[0m \u001b[0mDataSource\u001b[0m\u001b[0;34m(\u001b[0m\u001b[0mdestpath\u001b[0m\u001b[0;34m)\u001b[0m\u001b[0;34m\u001b[0m\u001b[0;34m\u001b[0m\u001b[0m\n\u001b[0;32m--> 193\u001b[0;31m     \u001b[0;32mreturn\u001b[0m \u001b[0mds\u001b[0m\u001b[0;34m.\u001b[0m\u001b[0mopen\u001b[0m\u001b[0;34m(\u001b[0m\u001b[0mpath\u001b[0m\u001b[0;34m,\u001b[0m \u001b[0mmode\u001b[0m\u001b[0;34m,\u001b[0m \u001b[0mencoding\u001b[0m\u001b[0;34m=\u001b[0m\u001b[0mencoding\u001b[0m\u001b[0;34m,\u001b[0m \u001b[0mnewline\u001b[0m\u001b[0;34m=\u001b[0m\u001b[0mnewline\u001b[0m\u001b[0;34m)\u001b[0m\u001b[0;34m\u001b[0m\u001b[0;34m\u001b[0m\u001b[0m\n\u001b[0m\u001b[1;32m    194\u001b[0m \u001b[0;34m\u001b[0m\u001b[0m\n\u001b[1;32m    195\u001b[0m \u001b[0;34m\u001b[0m\u001b[0m\n",
      "\u001b[0;32m~/.local/lib/python3.9/site-packages/numpy/lib/_datasource.py\u001b[0m in \u001b[0;36mopen\u001b[0;34m(self, path, mode, encoding, newline)\u001b[0m\n\u001b[1;32m    531\u001b[0m                                       encoding=encoding, newline=newline)\n\u001b[1;32m    532\u001b[0m         \u001b[0;32melse\u001b[0m\u001b[0;34m:\u001b[0m\u001b[0;34m\u001b[0m\u001b[0;34m\u001b[0m\u001b[0m\n\u001b[0;32m--> 533\u001b[0;31m             \u001b[0;32mraise\u001b[0m \u001b[0mIOError\u001b[0m\u001b[0;34m(\u001b[0m\u001b[0;34m\"%s not found.\"\u001b[0m \u001b[0;34m%\u001b[0m \u001b[0mpath\u001b[0m\u001b[0;34m)\u001b[0m\u001b[0;34m\u001b[0m\u001b[0;34m\u001b[0m\u001b[0m\n\u001b[0m\u001b[1;32m    534\u001b[0m \u001b[0;34m\u001b[0m\u001b[0m\n\u001b[1;32m    535\u001b[0m \u001b[0;34m\u001b[0m\u001b[0m\n",
      "\u001b[0;31mOSError\u001b[0m: ./tower_prep_data_json.csv not found."
     ]
    }
   ],
   "source": [
    "dirname = \".\"\n",
    "data = np.loadtxt(f'{dirname}/scripts/tower_prep_data_json.csv', delimiter=',', dtype=np.float32, skiprows=1)"
   ]
  },
  {
   "cell_type": "code",
   "execution_count": 4,
   "id": "d60804ec-e63b-47dc-9e7b-eb09781a90f8",
   "metadata": {},
   "outputs": [],
   "source": [
    "scaler_vibrations = joblib.load(f'{dirname}/scalers/vibrations.gz')\n",
    "scaler_temperature = joblib.load(f'{dirname}/scalers/temperature.gz')\n",
    "scaler_temperature_pir = joblib.load(/scalers/temperature_pir.gz')"
   ]
  },
  {
   "cell_type": "code",
   "execution_count": 5,
   "id": "5cfaac2f-0768-48f2-8ba3-210b1a528f62",
   "metadata": {
    "tags": []
   },
   "outputs": [],
   "source": [
    "class MV_LSTM(torch.nn.Module):\n",
    "    def __init__(self,n_features,seq_length):\n",
    "        super(MV_LSTM, self).__init__()\n",
    "        self.n_features = n_features\n",
    "        self.seq_len = seq_length\n",
    "        self.n_hidden = 30 # number of hidden states\n",
    "        self.n_layers = 4 # number of LSTM layers (stacked)\n",
    "    \n",
    "        self.l_lstm = torch.nn.LSTM(input_size = n_features, \n",
    "                                 hidden_size = self.n_hidden,\n",
    "                                 num_layers = self.n_layers, \n",
    "                                 batch_first = True)\n",
    "        # according to pytorch docs LSTM output is \n",
    "        # (batch_size,seq_len, num_directions * hidden_size)\n",
    "        # when considering batch_first = True\n",
    "        self.l_linear = torch.nn.Linear(self.n_hidden*self.seq_len, 1)\n",
    "        \n",
    "    \n",
    "    def init_hidden(self, batch_size):\n",
    "        # even with batch_first = True this remains same as docs\n",
    "        hidden_state = torch.zeros(self.n_layers,batch_size,self.n_hidden)\n",
    "        cell_state = torch.zeros(self.n_layers,batch_size,self.n_hidden)\n",
    "        self.hidden = (hidden_state, cell_state)\n",
    "    \n",
    "    \n",
    "    def forward(self, x):        \n",
    "        batch_size, seq_len, _ = x.size()\n",
    "        \n",
    "        lstm_out, self.hidden = self.l_lstm(x,self.hidden)\n",
    "        # lstm_out(with batch_first = True) is \n",
    "        # (batch_size,seq_len,num_directions * hidden_size)\n",
    "        # for following linear layer we want to keep batch_size dimension and merge rest       \n",
    "        # .contiguous() -> solves tensor compatibility error\n",
    "        x = lstm_out.contiguous().view(batch_size,-1)\n",
    "        return self.l_linear(x)"
   ]
  },
  {
   "cell_type": "code",
   "execution_count": 6,
   "id": "626177c1-c52f-448e-acfb-7c955bcd4d80",
   "metadata": {},
   "outputs": [],
   "source": [
    "class NeuralNetwork(nn.Module):\n",
    "    \n",
    "    def __init__(self):\n",
    "        \n",
    "        super(NeuralNetwork, self).__init__()\n",
    "        \n",
    "        self.linear_relu_stack = nn.Sequential(\n",
    "        \n",
    "            nn.Linear(60, 40),\n",
    "            nn.ReLU(),\n",
    "            nn.Linear(40, 20),\n",
    "            nn.ReLU(),\n",
    "            nn.Linear(20, 6)\n",
    "        )\n",
    "        \n",
    "    \n",
    "    def forward(self, x):\n",
    "        \n",
    "        output = self.linear_relu_stack(x)\n",
    "        return output"
   ]
  },
  {
   "cell_type": "code",
   "execution_count": 7,
   "id": "29028bcd-8606-4475-919e-d28d95424f86",
   "metadata": {},
   "outputs": [],
   "source": [
    "motor_model = torch.load(\"./models/motor2.pt\")\n",
    "temperature_model = torch.load(\"./models/temperature2.pt\")"
   ]
  },
  {
   "cell_type": "code",
   "execution_count": 8,
   "id": "45b02b3f-28f6-435f-92b3-f0d3ab6d1066",
   "metadata": {
    "tags": []
   },
   "outputs": [
    {
     "data": {
      "text/plain": [
       "MV_LSTM(\n",
       "  (l_lstm): LSTM(3, 30, num_layers=4, batch_first=True)\n",
       "  (l_linear): Linear(in_features=1800, out_features=1, bias=True)\n",
       ")"
      ]
     },
     "execution_count": 8,
     "metadata": {},
     "output_type": "execute_result"
    }
   ],
   "source": [
    "motor_model.eval()\n",
    "temperature_model.eval()"
   ]
  },
  {
   "cell_type": "code",
   "execution_count": 9,
   "id": "07652f4b-453a-419c-b4c7-f43444e88c78",
   "metadata": {},
   "outputs": [],
   "source": [
    "def motor_eval(vib):\n",
    "    motor_model.eval()\n",
    "\n",
    "    with torch.no_grad():\n",
    "\n",
    "        outputs = torch.tensor(vib.reshape(-1, 60))\n",
    "\n",
    "        outputs = motor_model(outputs)\n",
    "        _, predicted = torch.max(outputs, 1)\n",
    "        \n",
    "        return predicted.item()"
   ]
  },
  {
   "cell_type": "code",
   "execution_count": 10,
   "id": "6c75eceb-8ba1-4c5f-9af2-9d13a4d5d425",
   "metadata": {
    "tags": []
   },
   "outputs": [],
   "source": [
    "size = 60\n",
    "shift = 0\n",
    "\n",
    "vibrations =  np.array( data[-size + shift:, 3] )\n",
    "temperature =  np.array( data[-size + shift:, 4] )\n",
    "temperature_pir =  np.array( data[-size + shift:, 5])\n",
    "\n",
    "#vibrations = scaler_vibrations.transform(vibrations.reshape(-1, 1))\n",
    "#temperature = scaler_temperature.transform(temperature.reshape(-1, 1))\n",
    "\n",
    "vibrations = scaler_vibrations.transform(np.log( vibrations + 1e-15).reshape(-1, 1))\n",
    "temperature = scaler_temperature.transform(temperature .reshape(-1, 1))\n",
    "#temperature_pir = scaler_temperature_pir.transform(temperature_pir.reshape(-1, 1))\n",
    "temperature_pir = temperature_pir/50\n",
    "\n",
    "\n",
    "pred_vibrations = np.empty(temperature.size)\n",
    "pred_vibrations.fill(motor_eval(vibrations)/5)\n",
    "    \n",
    "dataset_test = np.stack((pred_vibrations, temperature[:, 0], temperature_pir), axis=1)\n",
    "#dataset = temperature[:, 0]\n",
    "#dataset_test = np.stack((pred_vibrations, temperature, temperature_pir), axis=1)\n",
    "#dataset = temperature[:, 0]"
   ]
  },
  {
   "cell_type": "code",
   "execution_count": 11,
   "id": "94d137e4-25c1-442e-b308-8e9d543311aa",
   "metadata": {},
   "outputs": [],
   "source": [
    "for i in range(fut_pred):\n",
    "    \n",
    "    seq = torch.FloatTensor([dataset_test[i*3: i*3 + 3*n_timesteps].reshape(-1, 3)])\n",
    "    #print(seq)\n",
    "    #print(seq)\n",
    "\n",
    "    with torch.no_grad():\n",
    "\n",
    "        temperature_model.init_hidden(seq.size(0))\n",
    "        dataset_test = np.append(dataset_test, [pred_vibrations[0], temperature_model(seq).item(), temperature_pir[-1]])\n",
    "        #dataset_test = np.append(dataset_test, [pred_vibrations[0], temperature_model(seq).item(), temperature_pir[-1]] )\n"
   ]
  },
  {
   "cell_type": "code",
   "execution_count": 12,
   "id": "69428496-9d41-4904-a338-6cf1363bc430",
   "metadata": {},
   "outputs": [],
   "source": [
    "#dataset_test = torch.FloatTensor(dataset_test)\n",
    "#dataset_test_l = torch.FloatTensor(dataset_test_l)\n",
    "#temp = scaler_temperature.inverse_transform(dataset_test.reshape(-1, 3)[-fut_pred:, 1].reshape(-1, 1))\n",
    "    \n",
    "\n",
    "    \n",
    "#plt.grid(True)\n",
    "#plt.autoscale(axis='x', tight=True)\n",
    "#plt.plot(temp)\n",
    "#plt.plot(dataset_test[:fut_pred, 1])\n",
    "#plt.plot(temperature[:fut_pred])\n",
    "#plt.show()"
   ]
  },
  {
   "cell_type": "code",
   "execution_count": null,
   "id": "ee0a4628-bb4c-41e7-a3d3-7864d4adff97",
   "metadata": {},
   "outputs": [],
   "source": [
    "\n",
    "stop = timer()\n",
    "print(stop - start)"
   ]
  }
 ],
 "metadata": {
  "kernelspec": {
   "display_name": "Python 3",
   "language": "python",
   "name": "python3"
  },
  "language_info": {
   "codemirror_mode": {
    "name": "ipython",
    "version": 3
   },
   "file_extension": ".py",
   "mimetype": "text/x-python",
   "name": "python",
   "nbconvert_exporter": "python",
   "pygments_lexer": "ipython3",
   "version": "3.9.5"
  }
 },
 "nbformat": 4,
 "nbformat_minor": 5
}
