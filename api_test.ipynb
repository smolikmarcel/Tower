{
 "cells": [
  {
   "cell_type": "code",
   "execution_count": 3,
   "id": "f2e2a683-11e7-4682-8d40-4c84917c8490",
   "metadata": {},
   "outputs": [],
   "source": [
    "import requests\n",
    "import json\n",
    "import os\n",
    "\n",
    "\n",
    "import pickle"
   ]
  },
  {
   "cell_type": "code",
   "execution_count": 4,
   "id": "87b9d589-dead-4932-9699-7ff089be5d3c",
   "metadata": {},
   "outputs": [
    {
     "ename": "NameError",
     "evalue": "name 'obj' is not defined",
     "output_type": "error",
     "traceback": [
      "\u001b[0;31m---------------------------------------------------------------------------\u001b[0m",
      "\u001b[0;31mNameError\u001b[0m                                 Traceback (most recent call last)",
      "\u001b[0;32m<ipython-input-4-5b56e687b0d0>\u001b[0m in \u001b[0;36m<module>\u001b[0;34m\u001b[0m\n\u001b[1;32m      1\u001b[0m \u001b[0mf\u001b[0m \u001b[0;34m=\u001b[0m \u001b[0mopen\u001b[0m\u001b[0;34m(\u001b[0m\u001b[0;34m'store.pckl'\u001b[0m\u001b[0;34m,\u001b[0m \u001b[0;34m'wb'\u001b[0m\u001b[0;34m)\u001b[0m\u001b[0;34m\u001b[0m\u001b[0;34m\u001b[0m\u001b[0m\n\u001b[0;32m----> 2\u001b[0;31m \u001b[0mpickle\u001b[0m\u001b[0;34m.\u001b[0m\u001b[0mdump\u001b[0m\u001b[0;34m(\u001b[0m\u001b[0mobj\u001b[0m\u001b[0;34m,\u001b[0m \u001b[0mf\u001b[0m\u001b[0;34m)\u001b[0m\u001b[0;34m\u001b[0m\u001b[0;34m\u001b[0m\u001b[0m\n\u001b[0m\u001b[1;32m      3\u001b[0m \u001b[0mf\u001b[0m\u001b[0;34m.\u001b[0m\u001b[0mclose\u001b[0m\u001b[0;34m(\u001b[0m\u001b[0;34m)\u001b[0m\u001b[0;34m\u001b[0m\u001b[0;34m\u001b[0m\u001b[0m\n\u001b[1;32m      4\u001b[0m \u001b[0;34m\u001b[0m\u001b[0m\n\u001b[1;32m      5\u001b[0m \u001b[0mf\u001b[0m \u001b[0;34m=\u001b[0m \u001b[0mopen\u001b[0m\u001b[0;34m(\u001b[0m\u001b[0;34m'store.pckl'\u001b[0m\u001b[0;34m,\u001b[0m \u001b[0;34m'rb'\u001b[0m\u001b[0;34m)\u001b[0m\u001b[0;34m\u001b[0m\u001b[0;34m\u001b[0m\u001b[0m\n",
      "\u001b[0;31mNameError\u001b[0m: name 'obj' is not defined"
     ]
    }
   ],
   "source": [
    "f = open('store.pckl', 'wb')\n",
    "pickle.dump(obj, f)\n",
    "f.close()\n",
    "\n",
    "f = open('store.pckl', 'rb')\n",
    "obj = pickle.load(f)\n",
    "f.close()"
   ]
  },
  {
   "cell_type": "code",
   "execution_count": 5,
   "id": "8fc0d14e-31f5-4dd5-bc83-01d1ca6f585e",
   "metadata": {},
   "outputs": [],
   "source": [
    "a = 5\n",
    "\n",
    "f = open('store.pckl', 'wb')\n",
    "pickle.dump(a, f)\n",
    "f.close()"
   ]
  },
  {
   "cell_type": "code",
   "execution_count": 6,
   "id": "cddfcd83-5379-406b-b21d-1c10519dc5e9",
   "metadata": {},
   "outputs": [
    {
     "name": "stdout",
     "output_type": "stream",
     "text": [
      "ahoj 5\n"
     ]
    }
   ],
   "source": [
    "print(f\"ahoj {a}\")"
   ]
  },
  {
   "cell_type": "code",
   "execution_count": 6,
   "id": "f9782554-3788-4967-abb7-721962f1371a",
   "metadata": {},
   "outputs": [],
   "source": [
    "#f = open('store.pckl', 'rb')\n",
    "b = 1\n",
    "\n",
    "try:\n",
    "    with open('store.pckl', 'rb') as f:\n",
    "        b = pickle.load(f)\n",
    "\n",
    "except FileNotFoundError:\n",
    "    \n",
    "    b = 1\n",
    "    f = open('store.pckl', 'wb')\n",
    "    pickle.dump(b, f)\n",
    "    f.close()"
   ]
  },
  {
   "cell_type": "code",
   "execution_count": null,
   "id": "09cae275-8d56-4d50-9262-3517fcc7b091",
   "metadata": {},
   "outputs": [],
   "source": [
    "loss = np.sum(y_pred - y) * step"
   ]
  },
  {
   "cell_type": "code",
   "execution_count": 2,
   "id": "3ae92c5e-8254-4e64-a912-10e9c261564d",
   "metadata": {},
   "outputs": [],
   "source": [
    "def jprint(obj):\n",
    "    # create a formatted string of the Python JSON object\n",
    "    text = json.dumps(obj, sort_keys=True, indent=4)\n",
    "    print(text)"
   ]
  },
  {
   "cell_type": "code",
   "execution_count": 7,
   "id": "d81cdc4b-2060-4199-bcd2-a5632bb16886",
   "metadata": {},
   "outputs": [
    {
     "ename": "NameError",
     "evalue": "name '__file__' is not defined",
     "output_type": "error",
     "traceback": [
      "\u001b[0;31m---------------------------------------------------------------------------\u001b[0m",
      "\u001b[0;31mNameError\u001b[0m                                 Traceback (most recent call last)",
      "\u001b[0;32m<ipython-input-7-880eb789ae8a>\u001b[0m in \u001b[0;36m<module>\u001b[0;34m\u001b[0m\n\u001b[0;32m----> 1\u001b[0;31m \u001b[0mos\u001b[0m\u001b[0;34m.\u001b[0m\u001b[0mpath\u001b[0m\u001b[0;34m.\u001b[0m\u001b[0mdirname\u001b[0m\u001b[0;34m(\u001b[0m\u001b[0mos\u001b[0m\u001b[0;34m.\u001b[0m\u001b[0mpath\u001b[0m\u001b[0;34m.\u001b[0m\u001b[0mabspath\u001b[0m\u001b[0;34m(\u001b[0m\u001b[0m__file__\u001b[0m\u001b[0;34m)\u001b[0m\u001b[0;34m)\u001b[0m\u001b[0;34m\u001b[0m\u001b[0;34m\u001b[0m\u001b[0m\n\u001b[0m",
      "\u001b[0;31mNameError\u001b[0m: name '__file__' is not defined"
     ]
    }
   ],
   "source": [
    "os.path.dirname(os.path.abspath(__file__))"
   ]
  },
  {
   "cell_type": "code",
   "execution_count": 25,
   "id": "e92d389e-be64-411a-bd39-7eed19c09970",
   "metadata": {},
   "outputs": [],
   "source": [
    "response = requests.get(\"http://hugo.sarahub.io/api/v1/hugo/get_last_value\")"
   ]
  },
  {
   "cell_type": "code",
   "execution_count": 26,
   "id": "98a69857-0b21-4545-828a-8b2df916c8a4",
   "metadata": {},
   "outputs": [
    {
     "data": {
      "text/plain": [
       "list"
      ]
     },
     "execution_count": 26,
     "metadata": {},
     "output_type": "execute_result"
    }
   ],
   "source": [
    "type(response.json())"
   ]
  },
  {
   "cell_type": "code",
   "execution_count": 27,
   "id": "4cfdd03b-b617-4e23-b3b4-2c6e02e78b61",
   "metadata": {},
   "outputs": [],
   "source": [
    "data = response.json()"
   ]
  },
  {
   "cell_type": "code",
   "execution_count": 28,
   "id": "33c0f6fa-122b-4c49-8a36-b3cb68577d8d",
   "metadata": {},
   "outputs": [
    {
     "data": {
      "text/plain": [
       "'cycle_count'"
      ]
     },
     "execution_count": 28,
     "metadata": {},
     "output_type": "execute_result"
    }
   ],
   "source": [
    "data[3]['metric']"
   ]
  },
  {
   "cell_type": "code",
   "execution_count": 29,
   "id": "41901a11-2f3b-4733-91a7-00efce0d5482",
   "metadata": {
    "collapsed": true,
    "jupyter": {
     "outputs_hidden": true
    },
    "tags": []
   },
   "outputs": [
    {
     "name": "stdout",
     "output_type": "stream",
     "text": [
      "[\n",
      "    {\n",
      "        \"device_code\": \"2\",\n",
      "        \"metric\": \"battery\",\n",
      "        \"timestamp\": \"1642671962\",\n",
      "        \"value\": \"2.70\"\n",
      "    },\n",
      "    {\n",
      "        \"device_code\": \"2\",\n",
      "        \"metric\": \"movements_count\",\n",
      "        \"timestamp\": \"1642672232\",\n",
      "        \"value\": \"47\"\n",
      "    },\n",
      "    {\n",
      "        \"device_code\": \"3\",\n",
      "        \"metric\": \"vibration\",\n",
      "        \"timestamp\": \"1642671922\",\n",
      "        \"value\": \"null\"\n",
      "    },\n",
      "    {\n",
      "        \"device_code\": \"3\",\n",
      "        \"metric\": \"cycle_count\",\n",
      "        \"timestamp\": \"1642672082\",\n",
      "        \"value\": \"226\"\n",
      "    },\n",
      "    {\n",
      "        \"device_code\": \"3\",\n",
      "        \"metric\": null,\n",
      "        \"timestamp\": \"1642671917\",\n",
      "        \"value\": \"P\\u0159eh\\u0159\\u00e1t\\u00ed\"\n",
      "    },\n",
      "    {\n",
      "        \"device_code\": \"2\",\n",
      "        \"metric\": \"orientation\",\n",
      "        \"timestamp\": \"1642672028\",\n",
      "        \"value\": \"3\"\n",
      "    },\n",
      "    {\n",
      "        \"device_code\": \"1\",\n",
      "        \"metric\": null,\n",
      "        \"timestamp\": \"1642672088\",\n",
      "        \"value\": \"Vypnuto\"\n",
      "    },\n",
      "    {\n",
      "        \"device_code\": \"2\",\n",
      "        \"metric\": \"moves_last_minute\",\n",
      "        \"timestamp\": \"1642672207\",\n",
      "        \"value\": \"20\"\n",
      "    },\n",
      "    {\n",
      "        \"device_code\": \"3\",\n",
      "        \"metric\": \"temperature\",\n",
      "        \"timestamp\": \"1642671917\",\n",
      "        \"value\": \"null\"\n",
      "    },\n",
      "    {\n",
      "        \"device_code\": \"1\",\n",
      "        \"metric\": \"issue_status\",\n",
      "        \"timestamp\": \"1642666141\",\n",
      "        \"value\": \"0\"\n",
      "    },\n",
      "    {\n",
      "        \"device_code\": \"2\",\n",
      "        \"metric\": \"temperature\",\n",
      "        \"timestamp\": \"1642672087\",\n",
      "        \"value\": \"24.19\"\n",
      "    },\n",
      "    {\n",
      "        \"device_code\": \"1\",\n",
      "        \"metric\": \"andon_status\",\n",
      "        \"timestamp\": \"1642666141\",\n",
      "        \"value\": \"2\"\n",
      "    },\n",
      "    {\n",
      "        \"device_code\": \"1\",\n",
      "        \"metric\": \"motor_status\",\n",
      "        \"timestamp\": \"1642672088\",\n",
      "        \"value\": \"0\"\n",
      "    },\n",
      "    {\n",
      "        \"device_code\": \"1\",\n",
      "        \"metric\": \"fan_status\",\n",
      "        \"timestamp\": \"1642670102\",\n",
      "        \"value\": \"0\"\n",
      "    }\n",
      "]\n"
     ]
    }
   ],
   "source": [
    "jprint(response.json())"
   ]
  },
  {
   "cell_type": "code",
   "execution_count": 55,
   "id": "0eb7b02c-4f1b-484a-aafa-a0de516fbec7",
   "metadata": {},
   "outputs": [],
   "source": [
    "response = requests.get(\"http://hugo.sarahub.io/api/v1/hugo/get_120_s_data\")"
   ]
  },
  {
   "cell_type": "code",
   "execution_count": 56,
   "id": "663ba9f9-b59a-43fc-acb1-6519cf26c318",
   "metadata": {
    "collapsed": true,
    "jupyter": {
     "outputs_hidden": true
    },
    "tags": []
   },
   "outputs": [
    {
     "name": "stdout",
     "output_type": "stream",
     "text": [
      "[\n",
      "    {\n",
      "        \"channel_name\": \"fan_status\",\n",
      "        \"device_code\": \"1\",\n",
      "        \"timestamp\": \"1642668527\",\n",
      "        \"value\": \"1\"\n",
      "    },\n",
      "    {\n",
      "        \"channel_name\": \"motor_status\",\n",
      "        \"device_code\": \"1\",\n",
      "        \"timestamp\": \"1642668577\",\n",
      "        \"value\": \"1\"\n",
      "    },\n",
      "    {\n",
      "        \"channel_name\": \"vibration\",\n",
      "        \"device_code\": \"3\",\n",
      "        \"timestamp\": \"1642668522\",\n",
      "        \"value\": \"0.26\"\n",
      "    },\n",
      "    {\n",
      "        \"channel_name\": \"temperature\",\n",
      "        \"device_code\": \"3\",\n",
      "        \"timestamp\": \"1642668527\",\n",
      "        \"value\": \"39.56\"\n",
      "    },\n",
      "    {\n",
      "        \"channel_name\": \"vibration\",\n",
      "        \"device_code\": \"3\",\n",
      "        \"timestamp\": \"1642668527\",\n",
      "        \"value\": \"0.31\"\n",
      "    },\n",
      "    {\n",
      "        \"channel_name\": \"temperature\",\n",
      "        \"device_code\": \"3\",\n",
      "        \"timestamp\": \"1642668533\",\n",
      "        \"value\": \"39.38\"\n",
      "    },\n",
      "    {\n",
      "        \"channel_name\": \"vibration\",\n",
      "        \"device_code\": \"3\",\n",
      "        \"timestamp\": \"1642668533\",\n",
      "        \"value\": \"0.25\"\n",
      "    },\n",
      "    {\n",
      "        \"channel_name\": \"temperature\",\n",
      "        \"device_code\": \"3\",\n",
      "        \"timestamp\": \"1642668537\",\n",
      "        \"value\": \"39.19\"\n",
      "    },\n",
      "    {\n",
      "        \"channel_name\": \"vibration\",\n",
      "        \"device_code\": \"3\",\n",
      "        \"timestamp\": \"1642668537\",\n",
      "        \"value\": \"0.27\"\n",
      "    },\n",
      "    {\n",
      "        \"channel_name\": \"vibration\",\n",
      "        \"device_code\": \"3\",\n",
      "        \"timestamp\": \"1642668543\",\n",
      "        \"value\": \"0.29\"\n",
      "    },\n",
      "    {\n",
      "        \"channel_name\": \"temperature\",\n",
      "        \"device_code\": \"3\",\n",
      "        \"timestamp\": \"1642668547\",\n",
      "        \"value\": \"39.00\"\n",
      "    },\n",
      "    {\n",
      "        \"channel_name\": \"vibration\",\n",
      "        \"device_code\": \"3\",\n",
      "        \"timestamp\": \"1642668547\",\n",
      "        \"value\": \"0.26\"\n",
      "    },\n",
      "    {\n",
      "        \"channel_name\": \"temperature\",\n",
      "        \"device_code\": \"3\",\n",
      "        \"timestamp\": \"1642668552\",\n",
      "        \"value\": \"38.81\"\n",
      "    },\n",
      "    {\n",
      "        \"channel_name\": \"vibration\",\n",
      "        \"device_code\": \"3\",\n",
      "        \"timestamp\": \"1642668552\",\n",
      "        \"value\": \"0.32\"\n",
      "    },\n",
      "    {\n",
      "        \"channel_name\": \"temperature\",\n",
      "        \"device_code\": \"3\",\n",
      "        \"timestamp\": \"1642668562\",\n",
      "        \"value\": \"38.62\"\n",
      "    },\n",
      "    {\n",
      "        \"channel_name\": \"vibration\",\n",
      "        \"device_code\": \"3\",\n",
      "        \"timestamp\": \"1642668562\",\n",
      "        \"value\": \"0.26\"\n",
      "    },\n",
      "    {\n",
      "        \"channel_name\": \"temperature\",\n",
      "        \"device_code\": \"3\",\n",
      "        \"timestamp\": \"1642668567\",\n",
      "        \"value\": \"38.25\"\n",
      "    },\n",
      "    {\n",
      "        \"channel_name\": \"vibration\",\n",
      "        \"device_code\": \"3\",\n",
      "        \"timestamp\": \"1642668567\",\n",
      "        \"value\": \"0.27\"\n",
      "    },\n",
      "    {\n",
      "        \"channel_name\": \"temperature\",\n",
      "        \"device_code\": \"3\",\n",
      "        \"timestamp\": \"1642668572\",\n",
      "        \"value\": \"38.06\"\n",
      "    },\n",
      "    {\n",
      "        \"channel_name\": \"vibration\",\n",
      "        \"device_code\": \"3\",\n",
      "        \"timestamp\": \"1642668572\",\n",
      "        \"value\": \"0.36\"\n",
      "    },\n",
      "    {\n",
      "        \"channel_name\": \"temperature\",\n",
      "        \"device_code\": \"3\",\n",
      "        \"timestamp\": \"1642668577\",\n",
      "        \"value\": \"37.88\"\n",
      "    },\n",
      "    {\n",
      "        \"channel_name\": \"vibration\",\n",
      "        \"device_code\": \"3\",\n",
      "        \"timestamp\": \"1642668577\",\n",
      "        \"value\": \"0.39\"\n",
      "    },\n",
      "    {\n",
      "        \"channel_name\": \"temperature\",\n",
      "        \"device_code\": \"3\",\n",
      "        \"timestamp\": \"1642668582\",\n",
      "        \"value\": \"37.75\"\n",
      "    },\n",
      "    {\n",
      "        \"channel_name\": \"vibration\",\n",
      "        \"device_code\": \"3\",\n",
      "        \"timestamp\": \"1642668582\",\n",
      "        \"value\": \"0.42\"\n",
      "    },\n",
      "    {\n",
      "        \"channel_name\": \"temperature\",\n",
      "        \"device_code\": \"3\",\n",
      "        \"timestamp\": \"1642668587\",\n",
      "        \"value\": \"37.56\"\n",
      "    },\n",
      "    {\n",
      "        \"channel_name\": \"cycle_count\",\n",
      "        \"device_code\": \"3\",\n",
      "        \"timestamp\": \"1642668587\",\n",
      "        \"value\": \"86\"\n",
      "    },\n",
      "    {\n",
      "        \"channel_name\": \"vibration\",\n",
      "        \"device_code\": \"3\",\n",
      "        \"timestamp\": \"1642668587\",\n",
      "        \"value\": \"0.77\"\n",
      "    },\n",
      "    {\n",
      "        \"channel_name\": \"temperature\",\n",
      "        \"device_code\": \"3\",\n",
      "        \"timestamp\": \"1642668593\",\n",
      "        \"value\": \"37.44\"\n",
      "    },\n",
      "    {\n",
      "        \"channel_name\": \"vibration\",\n",
      "        \"device_code\": \"3\",\n",
      "        \"timestamp\": \"1642668593\",\n",
      "        \"value\": \"1.10\"\n",
      "    },\n",
      "    {\n",
      "        \"channel_name\": \"temperature\",\n",
      "        \"device_code\": \"3\",\n",
      "        \"timestamp\": \"1642668597\",\n",
      "        \"value\": \"37.25\"\n",
      "    },\n",
      "    {\n",
      "        \"channel_name\": \"cycle_count\",\n",
      "        \"device_code\": \"3\",\n",
      "        \"timestamp\": \"1642668597\",\n",
      "        \"value\": \"87\"\n",
      "    },\n",
      "    {\n",
      "        \"channel_name\": \"vibration\",\n",
      "        \"device_code\": \"3\",\n",
      "        \"timestamp\": \"1642668597\",\n",
      "        \"value\": \"0.63\"\n",
      "    },\n",
      "    {\n",
      "        \"channel_name\": \"temperature\",\n",
      "        \"device_code\": \"3\",\n",
      "        \"timestamp\": \"1642668602\",\n",
      "        \"value\": \"37.12\"\n",
      "    },\n",
      "    {\n",
      "        \"channel_name\": \"vibration\",\n",
      "        \"device_code\": \"3\",\n",
      "        \"timestamp\": \"1642668602\",\n",
      "        \"value\": \"1.14\"\n",
      "    },\n",
      "    {\n",
      "        \"channel_name\": \"temperature\",\n",
      "        \"device_code\": \"3\",\n",
      "        \"timestamp\": \"1642668607\",\n",
      "        \"value\": \"37.00\"\n",
      "    },\n",
      "    {\n",
      "        \"channel_name\": \"cycle_count\",\n",
      "        \"device_code\": \"3\",\n",
      "        \"timestamp\": \"1642668607\",\n",
      "        \"value\": \"88\"\n",
      "    },\n",
      "    {\n",
      "        \"channel_name\": \"vibration\",\n",
      "        \"device_code\": \"3\",\n",
      "        \"timestamp\": \"1642668607\",\n",
      "        \"value\": \"0.42\"\n",
      "    },\n",
      "    {\n",
      "        \"channel_name\": \"temperature\",\n",
      "        \"device_code\": \"3\",\n",
      "        \"timestamp\": \"1642668612\",\n",
      "        \"value\": \"36.88\"\n",
      "    },\n",
      "    {\n",
      "        \"channel_name\": \"cycle_count\",\n",
      "        \"device_code\": \"3\",\n",
      "        \"timestamp\": \"1642668612\",\n",
      "        \"value\": \"89\"\n",
      "    },\n",
      "    {\n",
      "        \"channel_name\": \"vibration\",\n",
      "        \"device_code\": \"3\",\n",
      "        \"timestamp\": \"1642668612\",\n",
      "        \"value\": \"0.51\"\n",
      "    }\n",
      "]\n"
     ]
    }
   ],
   "source": [
    "jprint(response.json())"
   ]
  },
  {
   "cell_type": "code",
   "execution_count": 4,
   "id": "d641da6a-14c3-4e04-bf53-d83a002dceda",
   "metadata": {},
   "outputs": [],
   "source": [
    "myobj = { \"payload\": \"5\",\"topic\":\"motor_status\" };"
   ]
  },
  {
   "cell_type": "code",
   "execution_count": 5,
   "id": "cb9ccd9e-29d2-47d3-bd54-7b1d256642f1",
   "metadata": {
    "tags": []
   },
   "outputs": [
    {
     "name": "stdout",
     "output_type": "stream",
     "text": [
      "{\"payload\":\"5\",\"topic\":\"motor_status\"}\n"
     ]
    }
   ],
   "source": [
    "x = requests.post('http://192.168.166.34:1880/motor_status', data = myobj)\n",
    "\n",
    "print(x.text)\n"
   ]
  },
  {
   "cell_type": "code",
   "execution_count": null,
   "id": "1ef2d2f9-aa27-42c6-bc9f-6d54ede016fd",
   "metadata": {},
   "outputs": [],
   "source": []
  }
 ],
 "metadata": {
  "kernelspec": {
   "display_name": "Python 3",
   "language": "python",
   "name": "python3"
  },
  "language_info": {
   "codemirror_mode": {
    "name": "ipython",
    "version": 3
   },
   "file_extension": ".py",
   "mimetype": "text/x-python",
   "name": "python",
   "nbconvert_exporter": "python",
   "pygments_lexer": "ipython3",
   "version": "3.9.5"
  }
 },
 "nbformat": 4,
 "nbformat_minor": 5
}
